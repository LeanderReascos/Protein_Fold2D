{
 "cells": [
  {
   "cell_type": "code",
   "execution_count": 1,
   "metadata": {},
   "outputs": [
    {
     "data": {
      "text/html": [
       "<div>\n",
       "<style scoped>\n",
       "    .dataframe tbody tr th:only-of-type {\n",
       "        vertical-align: middle;\n",
       "    }\n",
       "\n",
       "    .dataframe tbody tr th {\n",
       "        vertical-align: top;\n",
       "    }\n",
       "\n",
       "    .dataframe thead th {\n",
       "        text-align: right;\n",
       "    }\n",
       "</style>\n",
       "<table border=\"1\" class=\"dataframe\">\n",
       "  <thead>\n",
       "    <tr style=\"text-align: right;\">\n",
       "      <th></th>\n",
       "      <th>Inputs</th>\n",
       "      <th>Directions</th>\n",
       "      <th>Energy</th>\n",
       "    </tr>\n",
       "  </thead>\n",
       "  <tbody>\n",
       "    <tr>\n",
       "      <th>0</th>\n",
       "      <td>HHHHP</td>\n",
       "      <td>SRRRL</td>\n",
       "      <td>1</td>\n",
       "    </tr>\n",
       "    <tr>\n",
       "      <th>1</th>\n",
       "      <td>HHHHP</td>\n",
       "      <td>SRRRF</td>\n",
       "      <td>1</td>\n",
       "    </tr>\n",
       "    <tr>\n",
       "      <th>2</th>\n",
       "      <td>HHHHP</td>\n",
       "      <td>SRLLR</td>\n",
       "      <td>1</td>\n",
       "    </tr>\n",
       "    <tr>\n",
       "      <th>3</th>\n",
       "      <td>HHHHP</td>\n",
       "      <td>SRLLF</td>\n",
       "      <td>1</td>\n",
       "    </tr>\n",
       "    <tr>\n",
       "      <th>4</th>\n",
       "      <td>HHHHP</td>\n",
       "      <td>SLRRL</td>\n",
       "      <td>1</td>\n",
       "    </tr>\n",
       "  </tbody>\n",
       "</table>\n",
       "</div>"
      ],
      "text/plain": [
       "  Inputs Directions  Energy\n",
       "0  HHHHP      SRRRL       1\n",
       "1  HHHHP      SRRRF       1\n",
       "2  HHHHP      SRLLR       1\n",
       "3  HHHHP      SRLLF       1\n",
       "4  HHHHP      SLRRL       1"
      ]
     },
     "execution_count": 1,
     "metadata": {},
     "output_type": "execute_result"
    }
   ],
   "source": [
    "import pandas as pd\n",
    "import matplotlib.pyplot as plt\n",
    "import numpy as np\n",
    "\n",
    "FILE = 'data/dataset.csv'\n",
    "df = pd.read_csv(FILE,sep=',')\n",
    "Inputs = df['Inputs']\n",
    "Directions = df['Directions'].values\n",
    "Energy = df['Energy'].values\n",
    "df.head()"
   ]
  },
  {
   "cell_type": "code",
   "execution_count": 129,
   "metadata": {},
   "outputs": [],
   "source": [
    "dic = {}\n",
    "for i,input in enumerate(Inputs):\n",
    "    try:\n",
    "        dic[input].append([Directions[i],Energy[i]])\n",
    "    except:\n",
    "        dic[input] = [[Directions[i],Energy[i]]]\n",
    "\n",
    "data = {}\n",
    "\n",
    "for key in dic.keys():\n",
    "    max_energy = 0\n",
    "    for _,energy in dic[key]:\n",
    "        if max_energy < energy: \n",
    "            max_energy = energy\n",
    "    data[key] = {'energy':max_energy,'directions':[]}\n",
    "\n",
    "values = []\n",
    "\n",
    "for key in dic.keys():\n",
    "    for dir,energy in dic[key]:\n",
    "        if energy == data[key]['energy']:\n",
    "            data[key]['directions'].append(dir)\n",
    "            values.append([key,dir])"
   ]
  },
  {
   "cell_type": "code",
   "execution_count": 130,
   "metadata": {},
   "outputs": [
    {
     "data": {
      "text/plain": [
       "Inputs        HPPHH\n",
       "Directions    SLRRL\n",
       "Name: 100, dtype: object"
      ]
     },
     "execution_count": 130,
     "metadata": {},
     "output_type": "execute_result"
    }
   ],
   "source": [
    "vals = pd.DataFrame(values,columns=['Inputs','Directions'])\n",
    "vals.head()\n",
    "vals.iloc[100]"
   ]
  },
  {
   "cell_type": "code",
   "execution_count": 147,
   "metadata": {},
   "outputs": [
    {
     "data": {
      "text/plain": [
       "22914"
      ]
     },
     "execution_count": 147,
     "metadata": {},
     "output_type": "execute_result"
    }
   ],
   "source": [
    "len(vals)"
   ]
  },
  {
   "cell_type": "code",
   "execution_count": 148,
   "metadata": {},
   "outputs": [
    {
     "data": {
      "text/plain": [
       "[('H', 'H', '0', 'R'),\n",
       " ('H', 'H', '1', 'R'),\n",
       " ('H', 'H', '2', 'R'),\n",
       " ('H', 'P', '3', 'L')]"
      ]
     },
     "execution_count": 148,
     "metadata": {},
     "output_type": "execute_result"
    }
   ],
   "source": [
    "def make_tuples_v2(line):\n",
    "    res = [(line['Inputs'][0],line['Inputs'][1],str(0),line['Directions'][1])]\n",
    "    for i,input in enumerate(line['Inputs'][1:-1]):\n",
    "        res.append((line['Inputs'][i+1],line['Inputs'][i+2],str(i+1),line['Directions'][i+2]))\n",
    "    return res\n",
    "\n",
    "def make_tuples(line):\n",
    "    res = [('_',line['Inputs'][0],line['Inputs'][1],line['Directions'][1])]\n",
    "    for i,input in enumerate(line['Inputs'][1:-1]):\n",
    "        res.append((line['Inputs'][i],input,line['Inputs'][i+2],line['Directions'][i+2]))\n",
    "    return res\n",
    "\n",
    "combinations = vals.apply(make_tuples,axis=1)\n",
    "combinations[0]\n",
    "\n",
    "combinations_v2 = vals.apply(make_tuples_v2,axis=1)\n",
    "combinations_v2[0]\n"
   ]
  },
  {
   "cell_type": "code",
   "execution_count": 149,
   "metadata": {},
   "outputs": [],
   "source": [
    "def tuple2string(t):\n",
    "    s = ''\n",
    "    for v in t:\n",
    "        s += v\n",
    "    return s\n",
    "\n",
    "INSTRUCTIONS = []\n",
    "for c in combinations.apply(lambda x: [tuple2string(v) for v in x]):\n",
    "    INSTRUCTIONS += c\n",
    "\n",
    "combinations_v2 = combinations_v2.apply(lambda x: [tuple2string(v) for v in x])\n",
    "combinations_v2 = combinations_v2.values.tolist()\n",
    "\n",
    "values = []\n",
    "for v in combinations_v2:\n",
    "  values += v\n",
    "\n",
    "#values"
   ]
  },
  {
   "cell_type": "code",
   "execution_count": 150,
   "metadata": {},
   "outputs": [
    {
     "data": {
      "text/html": [
       "<div>\n",
       "<style scoped>\n",
       "    .dataframe tbody tr th:only-of-type {\n",
       "        vertical-align: middle;\n",
       "    }\n",
       "\n",
       "    .dataframe tbody tr th {\n",
       "        vertical-align: top;\n",
       "    }\n",
       "\n",
       "    .dataframe thead th {\n",
       "        text-align: right;\n",
       "    }\n",
       "</style>\n",
       "<table border=\"1\" class=\"dataframe\">\n",
       "  <thead>\n",
       "    <tr style=\"text-align: right;\">\n",
       "      <th></th>\n",
       "      <th>Case</th>\n",
       "      <th>Counts</th>\n",
       "    </tr>\n",
       "  </thead>\n",
       "  <tbody>\n",
       "    <tr>\n",
       "      <th>0</th>\n",
       "      <td>HHHF</td>\n",
       "      <td>5346</td>\n",
       "    </tr>\n",
       "    <tr>\n",
       "      <th>1</th>\n",
       "      <td>HHHL</td>\n",
       "      <td>9549</td>\n",
       "    </tr>\n",
       "    <tr>\n",
       "      <th>2</th>\n",
       "      <td>HHHR</td>\n",
       "      <td>9549</td>\n",
       "    </tr>\n",
       "    <tr>\n",
       "      <th>3</th>\n",
       "      <td>HHPF</td>\n",
       "      <td>7584</td>\n",
       "    </tr>\n",
       "    <tr>\n",
       "      <th>4</th>\n",
       "      <td>HHPL</td>\n",
       "      <td>7200</td>\n",
       "    </tr>\n",
       "  </tbody>\n",
       "</table>\n",
       "</div>"
      ],
      "text/plain": [
       "   Case  Counts\n",
       "0  HHHF    5346\n",
       "1  HHHL    9549\n",
       "2  HHHR    9549\n",
       "3  HHPF    7584\n",
       "4  HHPL    7200"
      ]
     },
     "execution_count": 150,
     "metadata": {},
     "output_type": "execute_result"
    }
   ],
   "source": [
    "data_hist = {}\n",
    "INSTRUCTIONS.sort()\n",
    "for inst in INSTRUCTIONS:\n",
    "    try:\n",
    "        data_hist[inst] += 1\n",
    "    except:\n",
    "        data_hist[inst] = 1\n",
    "DATA_HIST = pd.DataFrame(list(zip(list(data_hist.keys()),list(data_hist.values()))),columns=['Case','Counts'])\n",
    "DATA_HIST.head()"
   ]
  },
  {
   "cell_type": "code",
   "execution_count": 151,
   "metadata": {},
   "outputs": [],
   "source": [
    "dic_cases = {}\n",
    "for i,case in enumerate(DATA_HIST['Case'].values):\n",
    "    try:\n",
    "        dic_cases[case[:-1]]['N'] += DATA_HIST['Counts'].values[i]\n",
    "    except:\n",
    "        dic_cases[case[:-1]] = {'N':DATA_HIST['Counts'].values[i]}\n",
    "\n",
    "for key in dic_cases.keys():\n",
    "    for l in 'LRF':\n",
    "        try:\n",
    "            dic_cases[key][l] = DATA_HIST['Counts'].loc[DATA_HIST['Case'] == key+l].values[0]/dic_cases[key]['N']\n",
    "        except:\n",
    "            dic_cases[key][l] = 0\n",
    "    dic_cases[key].pop('N')"
   ]
  },
  {
   "cell_type": "code",
   "execution_count": 176,
   "metadata": {},
   "outputs": [
    {
     "name": "stdout",
     "output_type": "stream",
     "text": [
      "Index(['HHH', 'HHP', 'HPH', 'HPP', 'PHH', 'PHP', 'PPH', 'PPP', '_HH', '_HP',\n",
      "       '_PH', '_PP'],\n",
      "      dtype='object')\n"
     ]
    },
    {
     "data": {
      "image/png": "[encoded data removed]",
      "text/plain": [
       "<Figure size 720x720 with 12 Axes>"
      ]
     },
     "metadata": {
      "needs_background": "light"
     },
     "output_type": "display_data"
    }
   ],
   "source": [
    "CASES = pd.DataFrame.from_dict(dic_cases)\n",
    "fig,ax = plt.subplots(4,3,figsize=(10,10),constrained_layout=True)\n",
    "#for i,col in enumerate(CASES.columns):\n",
    "#    ax[i%4,i%3].set_title(f'{col}')\n",
    "#    for j,row in enumerate(CASES[col]):\n",
    "#        ax[i%4,i%3].bar(j,row)\n",
    "#    ax[i%4,i%3].set_xticks([0,1,2])\n",
    "#    ax[i%4,i%3].set_xticklabels(['L','R','F'])\n",
    "#CASES.to_pickle('probs.pkl')\n",
    "#CASES\n",
    "print(CASES.columns)\n",
    "import re\n",
    "colors = ['#1C769D','#C22929','#715298']\n",
    "for i in range(4):\n",
    "    for j in range(3):\n",
    "        s = re.sub('_',r'\\_',CASES.columns[i*3+j])\n",
    "        ax[i][j].set_title(f'${s}$',fontsize=14)\n",
    "        col = CASES[CASES.columns[i*3+j]]\n",
    "        for d in range(3):\n",
    "            ax[i][j].bar(d,col[d],color=colors[d])\n",
    "            ax[i][j].set_xticks(list(range(3)))\n",
    "            ax[i][j].set_xticklabels([f'${c}$' for c in 'LRF'],fontsize=13)\n",
    "CASES\n",
    "PATH = 'C:/Users/reasc/OneDrive - Universidade do Minho (1)/Mestrado/Primer Semestre/PP/probabilistic_programming/Short Talks/Protein Fold 2D/Graficos/'\n",
    "fig.savefig(PATH+'MODEL1.svg')"
   ]
  },
  {
   "cell_type": "code",
   "execution_count": null,
   "metadata": {},
   "outputs": [],
   "source": []
  },
  {
   "cell_type": "code",
   "execution_count": 177,
   "metadata": {},
   "outputs": [],
   "source": [
    "def lists_by_positions(values):\n",
    "    list_0 = []\n",
    "    list_1 = []\n",
    "    list_2 = []\n",
    "    list_3 = []\n",
    "    list_4 = []\n",
    "    list_5 = []\n",
    "    list_6 = []\n",
    "    for i in values:\n",
    "        v = i[2]\n",
    "        a = i[:2]+i[3]\n",
    "        if (v == \"0\"):\n",
    "            list_0.append(a)\n",
    "        if (v == \"1\"):\n",
    "            list_1.append(a)\n",
    "        if (v == \"2\"):\n",
    "            list_2.append(a)\n",
    "        if (v == \"3\"):\n",
    "            list_3.append(a)\n",
    "        if (v == \"4\"):\n",
    "            list_4.append(a) \n",
    "        if (v == \"5\"):\n",
    "            list_5.append(a)  \n",
    "        if (v == \"6\"):\n",
    "            list_6.append(a)\n",
    "    return[list_0,list_1,list_2,list_3,list_4,list_5,list_6]\n",
    "    \n",
    "\n",
    "data2 = lists_by_positions(values)"
   ]
  },
  {
   "cell_type": "code",
   "execution_count": 178,
   "metadata": {},
   "outputs": [],
   "source": [
    "def get_probabilities(l):\n",
    "    cases = {'HH':{'N':0,'L':0,'R':0,'F':0},'HP':{'N':0,'L':0,'R':0,'F':0},'PH':{'N':0,'L':0,'R':0,'F':0},'PP':{'N':0,'L':0,'R':0,'F':0}}\n",
    "    for value in l:\n",
    "        cases[value[:-1]]['N'] += 1\n",
    "        cases[value[:-1]][value[-1]] += 1\n",
    "    \n",
    "    for case in cases.keys():\n",
    "        for d in 'LRF':\n",
    "            cases[case][d] /= cases[case]['N']\n",
    "        cases[case].pop('N')\n",
    "    CASES = pd.DataFrame.from_dict(cases)\n",
    "    return CASES\n",
    "    \n",
    "def plot_hists(df):\n",
    "    fig,ax = plt.subplots(2,2,figsize=(8,8),constrained_layout=True)\n",
    "    pares = [(0,0),(1,0),(0,1),(1,1)]\n",
    "    for i,col in enumerate(df.columns):\n",
    "        a,b = pares[i]\n",
    "        ax[a,b].set_title(f'{col}')\n",
    "        for j,row in enumerate(df[col]):\n",
    "            ax[a,b].bar(j,row)\n",
    "        ax[a,b].set_xticks([0,1,2])\n",
    "        ax[a,b].set_xticklabels(['L','R','F'])"
   ]
  },
  {
   "cell_type": "code",
   "execution_count": 179,
   "metadata": {},
   "outputs": [
    {
     "name": "stdout",
     "output_type": "stream",
     "text": [
      "Altura: 0\n"
     ]
    },
    {
     "data": {
      "text/html": [
       "<div>\n",
       "<style scoped>\n",
       "    .dataframe tbody tr th:only-of-type {\n",
       "        vertical-align: middle;\n",
       "    }\n",
       "\n",
       "    .dataframe tbody tr th {\n",
       "        vertical-align: top;\n",
       "    }\n",
       "\n",
       "    .dataframe thead th {\n",
       "        text-align: right;\n",
       "    }\n",
       "</style>\n",
       "<table border=\"1\" class=\"dataframe\">\n",
       "  <thead>\n",
       "    <tr style=\"text-align: right;\">\n",
       "      <th></th>\n",
       "      <th>HH</th>\n",
       "      <th>HP</th>\n",
       "      <th>PH</th>\n",
       "      <th>PP</th>\n",
       "    </tr>\n",
       "  </thead>\n",
       "  <tbody>\n",
       "    <tr>\n",
       "      <th>L</th>\n",
       "      <td>0.333333</td>\n",
       "      <td>0.333333</td>\n",
       "      <td>0.333333</td>\n",
       "      <td>0.333333</td>\n",
       "    </tr>\n",
       "    <tr>\n",
       "      <th>R</th>\n",
       "      <td>0.333333</td>\n",
       "      <td>0.333333</td>\n",
       "      <td>0.333333</td>\n",
       "      <td>0.333333</td>\n",
       "    </tr>\n",
       "    <tr>\n",
       "      <th>F</th>\n",
       "      <td>0.333333</td>\n",
       "      <td>0.333333</td>\n",
       "      <td>0.333333</td>\n",
       "      <td>0.333333</td>\n",
       "    </tr>\n",
       "  </tbody>\n",
       "</table>\n",
       "</div>"
      ],
      "text/plain": [
       "         HH        HP        PH        PP\n",
       "L  0.333333  0.333333  0.333333  0.333333\n",
       "R  0.333333  0.333333  0.333333  0.333333\n",
       "F  0.333333  0.333333  0.333333  0.333333"
      ]
     },
     "metadata": {},
     "output_type": "display_data"
    },
    {
     "data": {
      "image/png": "[encoded data removed]",
      "text/plain": [
       "<Figure size 576x576 with 4 Axes>"
      ]
     },
     "metadata": {
      "needs_background": "light"
     },
     "output_type": "display_data"
    },
    {
     "name": "stdout",
     "output_type": "stream",
     "text": [
      "Altura: 1\n"
     ]
    },
    {
     "data": {
      "text/html": [
       "<div>\n",
       "<style scoped>\n",
       "    .dataframe tbody tr th:only-of-type {\n",
       "        vertical-align: middle;\n",
       "    }\n",
       "\n",
       "    .dataframe tbody tr th {\n",
       "        vertical-align: top;\n",
       "    }\n",
       "\n",
       "    .dataframe thead th {\n",
       "        text-align: right;\n",
       "    }\n",
       "</style>\n",
       "<table border=\"1\" class=\"dataframe\">\n",
       "  <thead>\n",
       "    <tr style=\"text-align: right;\">\n",
       "      <th></th>\n",
       "      <th>HH</th>\n",
       "      <th>HP</th>\n",
       "      <th>PH</th>\n",
       "      <th>PP</th>\n",
       "    </tr>\n",
       "  </thead>\n",
       "  <tbody>\n",
       "    <tr>\n",
       "      <th>L</th>\n",
       "      <td>0.338736</td>\n",
       "      <td>0.327880</td>\n",
       "      <td>0.384226</td>\n",
       "      <td>0.351562</td>\n",
       "    </tr>\n",
       "    <tr>\n",
       "      <th>R</th>\n",
       "      <td>0.338736</td>\n",
       "      <td>0.327880</td>\n",
       "      <td>0.384226</td>\n",
       "      <td>0.351562</td>\n",
       "    </tr>\n",
       "    <tr>\n",
       "      <th>F</th>\n",
       "      <td>0.322528</td>\n",
       "      <td>0.344241</td>\n",
       "      <td>0.231547</td>\n",
       "      <td>0.296875</td>\n",
       "    </tr>\n",
       "  </tbody>\n",
       "</table>\n",
       "</div>"
      ],
      "text/plain": [
       "         HH        HP        PH        PP\n",
       "L  0.338736  0.327880  0.384226  0.351562\n",
       "R  0.338736  0.327880  0.384226  0.351562\n",
       "F  0.322528  0.344241  0.231547  0.296875"
      ]
     },
     "metadata": {},
     "output_type": "display_data"
    },
    {
     "data": {
      "image/png": "[encoded data removed]",
      "text/plain": [
       "<Figure size 576x576 with 4 Axes>"
      ]
     },
     "metadata": {
      "needs_background": "light"
     },
     "output_type": "display_data"
    },
    {
     "name": "stdout",
     "output_type": "stream",
     "text": [
      "Altura: 2\n"
     ]
    },
    {
     "data": {
      "text/html": [
       "<div>\n",
       "<style scoped>\n",
       "    .dataframe tbody tr th:only-of-type {\n",
       "        vertical-align: middle;\n",
       "    }\n",
       "\n",
       "    .dataframe tbody tr th {\n",
       "        vertical-align: top;\n",
       "    }\n",
       "\n",
       "    .dataframe thead th {\n",
       "        text-align: right;\n",
       "    }\n",
       "</style>\n",
       "<table border=\"1\" class=\"dataframe\">\n",
       "  <thead>\n",
       "    <tr style=\"text-align: right;\">\n",
       "      <th></th>\n",
       "      <th>HH</th>\n",
       "      <th>HP</th>\n",
       "      <th>PH</th>\n",
       "      <th>PP</th>\n",
       "    </tr>\n",
       "  </thead>\n",
       "  <tbody>\n",
       "    <tr>\n",
       "      <th>L</th>\n",
       "      <td>0.381710</td>\n",
       "      <td>0.312325</td>\n",
       "      <td>0.419145</td>\n",
       "      <td>0.378846</td>\n",
       "    </tr>\n",
       "    <tr>\n",
       "      <th>R</th>\n",
       "      <td>0.381710</td>\n",
       "      <td>0.312325</td>\n",
       "      <td>0.419145</td>\n",
       "      <td>0.378846</td>\n",
       "    </tr>\n",
       "    <tr>\n",
       "      <th>F</th>\n",
       "      <td>0.236581</td>\n",
       "      <td>0.375350</td>\n",
       "      <td>0.161710</td>\n",
       "      <td>0.242308</td>\n",
       "    </tr>\n",
       "  </tbody>\n",
       "</table>\n",
       "</div>"
      ],
      "text/plain": [
       "         HH        HP        PH        PP\n",
       "L  0.381710  0.312325  0.419145  0.378846\n",
       "R  0.381710  0.312325  0.419145  0.378846\n",
       "F  0.236581  0.375350  0.161710  0.242308"
      ]
     },
     "metadata": {},
     "output_type": "display_data"
    },
    {
     "data": {
      "image/png": "[encoded data removed]",
      "text/plain": [
       "<Figure size 576x576 with 4 Axes>"
      ]
     },
     "metadata": {
      "needs_background": "light"
     },
     "output_type": "display_data"
    },
    {
     "name": "stdout",
     "output_type": "stream",
     "text": [
      "Altura: 3\n"
     ]
    },
    {
     "data": {
      "text/html": [
       "<div>\n",
       "<style scoped>\n",
       "    .dataframe tbody tr th:only-of-type {\n",
       "        vertical-align: middle;\n",
       "    }\n",
       "\n",
       "    .dataframe tbody tr th {\n",
       "        vertical-align: top;\n",
       "    }\n",
       "\n",
       "    .dataframe thead th {\n",
       "        text-align: right;\n",
       "    }\n",
       "</style>\n",
       "<table border=\"1\" class=\"dataframe\">\n",
       "  <thead>\n",
       "    <tr style=\"text-align: right;\">\n",
       "      <th></th>\n",
       "      <th>HH</th>\n",
       "      <th>HP</th>\n",
       "      <th>PH</th>\n",
       "      <th>PP</th>\n",
       "    </tr>\n",
       "  </thead>\n",
       "  <tbody>\n",
       "    <tr>\n",
       "      <th>L</th>\n",
       "      <td>0.347090</td>\n",
       "      <td>0.278579</td>\n",
       "      <td>0.452467</td>\n",
       "      <td>0.388337</td>\n",
       "    </tr>\n",
       "    <tr>\n",
       "      <th>R</th>\n",
       "      <td>0.347090</td>\n",
       "      <td>0.278579</td>\n",
       "      <td>0.452467</td>\n",
       "      <td>0.388337</td>\n",
       "    </tr>\n",
       "    <tr>\n",
       "      <th>F</th>\n",
       "      <td>0.305819</td>\n",
       "      <td>0.442841</td>\n",
       "      <td>0.095066</td>\n",
       "      <td>0.223325</td>\n",
       "    </tr>\n",
       "  </tbody>\n",
       "</table>\n",
       "</div>"
      ],
      "text/plain": [
       "         HH        HP        PH        PP\n",
       "L  0.347090  0.278579  0.452467  0.388337\n",
       "R  0.347090  0.278579  0.452467  0.388337\n",
       "F  0.305819  0.442841  0.095066  0.223325"
      ]
     },
     "metadata": {},
     "output_type": "display_data"
    },
    {
     "data": {
      "image/png": "[encoded data removed]",
      "text/plain": [
       "<Figure size 576x576 with 4 Axes>"
      ]
     },
     "metadata": {
      "needs_background": "light"
     },
     "output_type": "display_data"
    },
    {
     "name": "stdout",
     "output_type": "stream",
     "text": [
      "Altura: 4\n"
     ]
    },
    {
     "data": {
      "text/html": [
       "<div>\n",
       "<style scoped>\n",
       "    .dataframe tbody tr th:only-of-type {\n",
       "        vertical-align: middle;\n",
       "    }\n",
       "\n",
       "    .dataframe tbody tr th {\n",
       "        vertical-align: top;\n",
       "    }\n",
       "\n",
       "    .dataframe thead th {\n",
       "        text-align: right;\n",
       "    }\n",
       "</style>\n",
       "<table border=\"1\" class=\"dataframe\">\n",
       "  <thead>\n",
       "    <tr style=\"text-align: right;\">\n",
       "      <th></th>\n",
       "      <th>HH</th>\n",
       "      <th>HP</th>\n",
       "      <th>PH</th>\n",
       "      <th>PP</th>\n",
       "    </tr>\n",
       "  </thead>\n",
       "  <tbody>\n",
       "    <tr>\n",
       "      <th>L</th>\n",
       "      <td>0.35913</td>\n",
       "      <td>0.297260</td>\n",
       "      <td>0.474734</td>\n",
       "      <td>0.367216</td>\n",
       "    </tr>\n",
       "    <tr>\n",
       "      <th>R</th>\n",
       "      <td>0.35913</td>\n",
       "      <td>0.297260</td>\n",
       "      <td>0.474734</td>\n",
       "      <td>0.367216</td>\n",
       "    </tr>\n",
       "    <tr>\n",
       "      <th>F</th>\n",
       "      <td>0.28174</td>\n",
       "      <td>0.405479</td>\n",
       "      <td>0.050532</td>\n",
       "      <td>0.265568</td>\n",
       "    </tr>\n",
       "  </tbody>\n",
       "</table>\n",
       "</div>"
      ],
      "text/plain": [
       "        HH        HP        PH        PP\n",
       "L  0.35913  0.297260  0.474734  0.367216\n",
       "R  0.35913  0.297260  0.474734  0.367216\n",
       "F  0.28174  0.405479  0.050532  0.265568"
      ]
     },
     "metadata": {},
     "output_type": "display_data"
    },
    {
     "data": {
      "image/png": "[encoded data removed]",
      "text/plain": [
       "<Figure size 576x576 with 4 Axes>"
      ]
     },
     "metadata": {
      "needs_background": "light"
     },
     "output_type": "display_data"
    },
    {
     "name": "stdout",
     "output_type": "stream",
     "text": [
      "Altura: 5\n"
     ]
    },
    {
     "data": {
      "text/html": [
       "<div>\n",
       "<style scoped>\n",
       "    .dataframe tbody tr th:only-of-type {\n",
       "        vertical-align: middle;\n",
       "    }\n",
       "\n",
       "    .dataframe tbody tr th {\n",
       "        vertical-align: top;\n",
       "    }\n",
       "\n",
       "    .dataframe thead th {\n",
       "        text-align: right;\n",
       "    }\n",
       "</style>\n",
       "<table border=\"1\" class=\"dataframe\">\n",
       "  <thead>\n",
       "    <tr style=\"text-align: right;\">\n",
       "      <th></th>\n",
       "      <th>HH</th>\n",
       "      <th>HP</th>\n",
       "      <th>PH</th>\n",
       "      <th>PP</th>\n",
       "    </tr>\n",
       "  </thead>\n",
       "  <tbody>\n",
       "    <tr>\n",
       "      <th>L</th>\n",
       "      <td>0.375108</td>\n",
       "      <td>0.322563</td>\n",
       "      <td>0.468845</td>\n",
       "      <td>0.333516</td>\n",
       "    </tr>\n",
       "    <tr>\n",
       "      <th>R</th>\n",
       "      <td>0.375108</td>\n",
       "      <td>0.322563</td>\n",
       "      <td>0.468845</td>\n",
       "      <td>0.333516</td>\n",
       "    </tr>\n",
       "    <tr>\n",
       "      <th>F</th>\n",
       "      <td>0.249784</td>\n",
       "      <td>0.354874</td>\n",
       "      <td>0.062310</td>\n",
       "      <td>0.332968</td>\n",
       "    </tr>\n",
       "  </tbody>\n",
       "</table>\n",
       "</div>"
      ],
      "text/plain": [
       "         HH        HP        PH        PP\n",
       "L  0.375108  0.322563  0.468845  0.333516\n",
       "R  0.375108  0.322563  0.468845  0.333516\n",
       "F  0.249784  0.354874  0.062310  0.332968"
      ]
     },
     "metadata": {},
     "output_type": "display_data"
    },
    {
     "data": {
      "image/png": "[encoded data removed]",
      "text/plain": [
       "<Figure size 576x576 with 4 Axes>"
      ]
     },
     "metadata": {
      "needs_background": "light"
     },
     "output_type": "display_data"
    },
    {
     "name": "stdout",
     "output_type": "stream",
     "text": [
      "Altura: 6\n"
     ]
    },
    {
     "data": {
      "text/html": [
       "<div>\n",
       "<style scoped>\n",
       "    .dataframe tbody tr th:only-of-type {\n",
       "        vertical-align: middle;\n",
       "    }\n",
       "\n",
       "    .dataframe tbody tr th {\n",
       "        vertical-align: top;\n",
       "    }\n",
       "\n",
       "    .dataframe thead th {\n",
       "        text-align: right;\n",
       "    }\n",
       "</style>\n",
       "<table border=\"1\" class=\"dataframe\">\n",
       "  <thead>\n",
       "    <tr style=\"text-align: right;\">\n",
       "      <th></th>\n",
       "      <th>HH</th>\n",
       "      <th>HP</th>\n",
       "      <th>PH</th>\n",
       "      <th>PP</th>\n",
       "    </tr>\n",
       "  </thead>\n",
       "  <tbody>\n",
       "    <tr>\n",
       "      <th>L</th>\n",
       "      <td>0.366356</td>\n",
       "      <td>0.300274</td>\n",
       "      <td>0.463087</td>\n",
       "      <td>0.323356</td>\n",
       "    </tr>\n",
       "    <tr>\n",
       "      <th>R</th>\n",
       "      <td>0.366356</td>\n",
       "      <td>0.300274</td>\n",
       "      <td>0.463087</td>\n",
       "      <td>0.323356</td>\n",
       "    </tr>\n",
       "    <tr>\n",
       "      <th>F</th>\n",
       "      <td>0.267287</td>\n",
       "      <td>0.399453</td>\n",
       "      <td>0.073826</td>\n",
       "      <td>0.353288</td>\n",
       "    </tr>\n",
       "  </tbody>\n",
       "</table>\n",
       "</div>"
      ],
      "text/plain": [
       "         HH        HP        PH        PP\n",
       "L  0.366356  0.300274  0.463087  0.323356\n",
       "R  0.366356  0.300274  0.463087  0.323356\n",
       "F  0.267287  0.399453  0.073826  0.353288"
      ]
     },
     "metadata": {},
     "output_type": "display_data"
    },
    {
     "data": {
      "image/png": "[encoded data removed]",
      "text/plain": [
       "<Figure size 576x576 with 4 Axes>"
      ]
     },
     "metadata": {
      "needs_background": "light"
     },
     "output_type": "display_data"
    }
   ],
   "source": [
    "desicion_tree = []\n",
    "for i,d in enumerate(data2):\n",
    "    print(f'Altura: {i}')\n",
    "    df = get_probabilities(d)\n",
    "    desicion_tree.append(df)\n",
    "    display(df)\n",
    "    df.to_pickle(f'models/decision_tree/altura{i}.pkl')\n",
    "    plot_hists(df)\n",
    "    plt.show()"
   ]
  },
  {
   "cell_type": "code",
   "execution_count": 181,
   "metadata": {},
   "outputs": [],
   "source": [
    "cases = {'HH':{'L':[],'R':[],'F':[]},'HP':{'L':[],'R':[],'F':[]},'PH':{'L':[],'R':[],'F':[]},'PP':{'L':[],'R':[],'F':[]}}\n",
    "directions = 'LRF'\n",
    "for df in desicion_tree:\n",
    "    for i,col in enumerate(df.columns):\n",
    "        for j,row in enumerate(df[col]):\n",
    "            cases[col][directions[j]].append(row)"
   ]
  },
  {
   "cell_type": "code",
   "execution_count": 198,
   "metadata": {},
   "outputs": [
    {
     "data": {
      "image/png": "[encoded data removed]",
      "text/plain": [
       "<Figure size 1440x720 with 4 Axes>"
      ]
     },
     "metadata": {
      "needs_background": "light"
     },
     "output_type": "display_data"
    }
   ],
   "source": [
    "fig,ax = plt.subplots(2,2,figsize=(20,10),constrained_layout=True)\n",
    "pares = [(0,0),(1,0),(0,1),(1,1)]\n",
    "m = '*o+'\n",
    "w = 0.2\n",
    "for i,case in enumerate(cases.keys()):\n",
    "    a,b = pares[i]\n",
    "    ax[a,b].set_title(f'${case}$',fontsize=14)\n",
    "    for j,d in enumerate(directions):\n",
    "        ax[a,b].plot(range(7),cases[case][d][:],ls='--',label=d,color=colors[j])\n",
    "        ax[a,b].scatter(range(7),cases[case][d][:],marker=m[j],color=colors[j])\n",
    "        for k,val in enumerate(cases[case][d][:]):\n",
    "            W = w*(j-1)\n",
    "            ax[a,b].bar(k+W,val,width=w,color=colors[j],alpha=0.7)\n",
    "        ax[a,b].set_xlabel(f'Altura da arvore',fontsize=13)\n",
    "    ax[a,b].legend()\n",
    "PATH = 'C:/Users/reasc/OneDrive - Universidade do Minho (1)/Mestrado/Primer Semestre/PP/probabilistic_programming/Short Talks/Protein Fold 2D/Graficos/'\n",
    "fig.savefig(PATH+'Decision_Tree.svg')"
   ]
  },
  {
   "cell_type": "code",
   "execution_count": 199,
   "metadata": {},
   "outputs": [],
   "source": [
    "import tensorflow as tf\n",
    "import tensorflow_probability as tfp\n",
    "tfd = tfp.distributions"
   ]
  },
  {
   "cell_type": "code",
   "execution_count": 200,
   "metadata": {},
   "outputs": [
    {
     "data": {
      "text/plain": [
       "[<matplotlib.lines.Line2D at 0x1b7c960c8e0>]"
      ]
     },
     "execution_count": 200,
     "metadata": {},
     "output_type": "execute_result"
    },
    {
     "data": {
      "image/png": "[encoded data removed]",
      "text/plain": [
       "<Figure size 432x288 with 1 Axes>"
      ]
     },
     "metadata": {
      "needs_background": "light"
     },
     "output_type": "display_data"
    }
   ],
   "source": [
    "d = tfd.Normal(0,0.1)\n",
    "x = np.linspace(-1,1,100)\n",
    "plt.plot(x,d.prob(x))"
   ]
  },
  {
   "cell_type": "code",
   "execution_count": 216,
   "metadata": {},
   "outputs": [
    {
     "data": {
      "text/plain": [
       "<tf.Tensor: shape=(), dtype=float32, numpy=-0.06478345>"
      ]
     },
     "execution_count": 216,
     "metadata": {},
     "output_type": "execute_result"
    }
   ],
   "source": [
    "d.sample()"
   ]
  },
  {
   "cell_type": "code",
   "execution_count": 121,
   "metadata": {},
   "outputs": [],
   "source": [
    "def calc_functions(x,y):\n",
    "    negloglik = lambda y, rv_y: -rv_y.log_prob(y)\n",
    "    model = tf.keras.Sequential([\n",
    "    tf.keras.layers.Dense(1),\n",
    "    tfp.layers.DistributionLambda(lambda t: tfd.Normal(loc=t, scale=1)),\n",
    "    ])\n",
    "\n",
    "    model.compile(optimizer=tf.optimizers.Adam(learning_rate=0.01), loss=negloglik)\n",
    "    model.fit(x, y, epochs=1000, verbose=False)\n",
    "    return model"
   ]
  },
  {
   "cell_type": "code",
   "execution_count": 127,
   "metadata": {},
   "outputs": [
    {
     "data": {
      "text/html": [
       "<div>\n",
       "<style scoped>\n",
       "    .dataframe tbody tr th:only-of-type {\n",
       "        vertical-align: middle;\n",
       "    }\n",
       "\n",
       "    .dataframe tbody tr th {\n",
       "        vertical-align: top;\n",
       "    }\n",
       "\n",
       "    .dataframe thead th {\n",
       "        text-align: right;\n",
       "    }\n",
       "</style>\n",
       "<table border=\"1\" class=\"dataframe\">\n",
       "  <thead>\n",
       "    <tr style=\"text-align: right;\">\n",
       "      <th></th>\n",
       "      <th>w</th>\n",
       "      <th>b</th>\n",
       "    </tr>\n",
       "  </thead>\n",
       "  <tbody>\n",
       "    <tr>\n",
       "      <th>0</th>\n",
       "      <td>0.006034046</td>\n",
       "      <td>0.33990815</td>\n",
       "    </tr>\n",
       "  </tbody>\n",
       "</table>\n",
       "</div>"
      ],
      "text/plain": [
       "             w           b\n",
       "0  0.006034046  0.33990815"
      ]
     },
     "metadata": {},
     "output_type": "display_data"
    },
    {
     "data": {
      "image/png": "[encoded data removed]",
      "text/plain": [
       "<Figure size 432x288 with 1 Axes>"
      ]
     },
     "metadata": {
      "needs_background": "light"
     },
     "output_type": "display_data"
    },
    {
     "data": {
      "text/html": [
       "<div>\n",
       "<style scoped>\n",
       "    .dataframe tbody tr th:only-of-type {\n",
       "        vertical-align: middle;\n",
       "    }\n",
       "\n",
       "    .dataframe tbody tr th {\n",
       "        vertical-align: top;\n",
       "    }\n",
       "\n",
       "    .dataframe thead th {\n",
       "        text-align: right;\n",
       "    }\n",
       "</style>\n",
       "<table border=\"1\" class=\"dataframe\">\n",
       "  <thead>\n",
       "    <tr style=\"text-align: right;\">\n",
       "      <th></th>\n",
       "      <th>w</th>\n",
       "      <th>b</th>\n",
       "    </tr>\n",
       "  </thead>\n",
       "  <tbody>\n",
       "    <tr>\n",
       "      <th>0</th>\n",
       "      <td>-0.012144539</td>\n",
       "      <td>0.33416447</td>\n",
       "    </tr>\n",
       "  </tbody>\n",
       "</table>\n",
       "</div>"
      ],
      "text/plain": [
       "              w           b\n",
       "0  -0.012144539  0.33416447"
      ]
     },
     "metadata": {},
     "output_type": "display_data"
    },
    {
     "data": {
      "image/png": "[encoded data removed]",
      "text/plain": [
       "<Figure size 432x288 with 1 Axes>"
      ]
     },
     "metadata": {
      "needs_background": "light"
     },
     "output_type": "display_data"
    },
    {
     "data": {
      "text/html": [
       "<div>\n",
       "<style scoped>\n",
       "    .dataframe tbody tr th:only-of-type {\n",
       "        vertical-align: middle;\n",
       "    }\n",
       "\n",
       "    .dataframe tbody tr th {\n",
       "        vertical-align: top;\n",
       "    }\n",
       "\n",
       "    .dataframe thead th {\n",
       "        text-align: right;\n",
       "    }\n",
       "</style>\n",
       "<table border=\"1\" class=\"dataframe\">\n",
       "  <thead>\n",
       "    <tr style=\"text-align: right;\">\n",
       "      <th></th>\n",
       "      <th>w</th>\n",
       "      <th>b</th>\n",
       "    </tr>\n",
       "  </thead>\n",
       "  <tbody>\n",
       "    <tr>\n",
       "      <th>0</th>\n",
       "      <td>0.03724804</td>\n",
       "      <td>0.3369921</td>\n",
       "    </tr>\n",
       "  </tbody>\n",
       "</table>\n",
       "</div>"
      ],
      "text/plain": [
       "            w          b\n",
       "0  0.03724804  0.3369921"
      ]
     },
     "metadata": {},
     "output_type": "display_data"
    },
    {
     "data": {
      "image/png": "[encoded data removed]",
      "text/plain": [
       "<Figure size 432x288 with 1 Axes>"
      ]
     },
     "metadata": {
      "needs_background": "light"
     },
     "output_type": "display_data"
    },
    {
     "data": {
      "text/html": [
       "<div>\n",
       "<style scoped>\n",
       "    .dataframe tbody tr th:only-of-type {\n",
       "        vertical-align: middle;\n",
       "    }\n",
       "\n",
       "    .dataframe tbody tr th {\n",
       "        vertical-align: top;\n",
       "    }\n",
       "\n",
       "    .dataframe thead th {\n",
       "        text-align: right;\n",
       "    }\n",
       "</style>\n",
       "<table border=\"1\" class=\"dataframe\">\n",
       "  <thead>\n",
       "    <tr style=\"text-align: right;\">\n",
       "      <th></th>\n",
       "      <th>w</th>\n",
       "      <th>b</th>\n",
       "    </tr>\n",
       "  </thead>\n",
       "  <tbody>\n",
       "    <tr>\n",
       "      <th>0</th>\n",
       "      <td>0.018865962</td>\n",
       "      <td>0.32103884</td>\n",
       "    </tr>\n",
       "  </tbody>\n",
       "</table>\n",
       "</div>"
      ],
      "text/plain": [
       "             w           b\n",
       "0  0.018865962  0.32103884"
      ]
     },
     "metadata": {},
     "output_type": "display_data"
    },
    {
     "data": {
      "image/png": "[encoded data removed]",
      "text/plain": [
       "<Figure size 432x288 with 1 Axes>"
      ]
     },
     "metadata": {
      "needs_background": "light"
     },
     "output_type": "display_data"
    }
   ],
   "source": [
    "for case in cases.keys():\n",
    "    x = np.arange(5)\n",
    "    y = np.array(cases[case]['L'][:5])\n",
    "    b = 0\n",
    "    while b < 0.28 or b > 0.34:\n",
    "        model = calc_functions(x,y)\n",
    "        w = np.squeeze(model.layers[-2].kernel.numpy())\n",
    "        b = np.squeeze(model.layers[-2].bias.numpy())\n",
    "    df = pd.DataFrame([[w,b]],columns=['w','b'])\n",
    "    display(df)\n",
    "    df.to_pickle(f'models/decision_tree/{case}.pkl')\n",
    "    x_tst = np.arange(0,6,dtype= np.float64)\n",
    "    x_tst = x_tst.reshape((len(x_tst),1))\n",
    "    yhat = model(x_tst)\n",
    "    plt.plot(x,y,'b.',label='Observed')\n",
    "    plt.plot(x_tst,yhat.mean(),label='Predict',color='red')\n",
    "    plt.legend()\n",
    "    plt.show()"
   ]
  },
  {
   "cell_type": "code",
   "execution_count": 135,
   "metadata": {},
   "outputs": [],
   "source": [
    "def C(n,r):\n",
    "    return np.math.factorial(n)/(np.math.factorial(r)*np.math.factorial(n-r))"
   ]
  },
  {
   "cell_type": "code",
   "execution_count": 138,
   "metadata": {},
   "outputs": [],
   "source": [
    "def count(N):\n",
    "    return np.sum([C(N,i) for i in range(3,N)])\n",
    "        "
   ]
  },
  {
   "cell_type": "code",
   "execution_count": 144,
   "metadata": {},
   "outputs": [
    {
     "data": {
      "text/plain": [
       "559386.0"
      ]
     },
     "execution_count": 144,
     "metadata": {},
     "output_type": "execute_result"
    }
   ],
   "source": [
    "np.sum([count(i)*3**(i-1) for i in range(5,9)])"
   ]
  },
  {
   "cell_type": "code",
   "execution_count": 217,
   "metadata": {},
   "outputs": [
    {
     "data": {
      "text/plain": [
       "234"
      ]
     },
     "execution_count": 217,
     "metadata": {},
     "output_type": "execute_result"
    }
   ],
   "source": [
    "1100-866"
   ]
  },
  {
   "cell_type": "code",
   "execution_count": 220,
   "metadata": {},
   "outputs": [
    {
     "data": {
      "text/plain": [
       "132.7433628318584"
      ]
     },
     "execution_count": 220,
     "metadata": {},
     "output_type": "execute_result"
    }
   ],
   "source": [
    "150/1.13"
   ]
  },
  {
   "cell_type": "code",
   "execution_count": 2,
   "metadata": {},
   "outputs": [],
   "source": [
    "m1 = '''Random: 0.14814814814814814 - Model: 0.236 Samples: 1000\n",
    "Random: 0.14814814814814814 - Model: 0.232 Samples: 1000\n",
    "Random: 0.14814814814814814 - Model: 0.246 Samples: 1000\n",
    "Random: 0.24691358024691357 - Model: 0.366 Samples: 1000\n",
    "Random: 0.14814814814814814 - Model: 0.182 Samples: 1000\n",
    "Random: 0.024691358024691357 - Model: 0.058 Samples: 1000\n",
    "Random: 0.13168724279835392 - Model: 0.2030178326474623 Samples: 1458\n",
    "Random: 0.0411522633744856 - Model: 0.04046639231824417 Samples: 1458\n",
    "Random: 0.0411522633744856 - Model: 0.06515775034293553 Samples: 1458\n",
    "Random: 0.00823045267489712 - Model: 0.017375400091449476 Samples: 4374\n",
    "Random: 0.05212620027434842 - Model: 0.08916323731138547 Samples: 4374\n",
    "Random: 0.0027434842249657062 - Model: 0.016918152720621856 Samples: 4374'''\n",
    "\n",
    "dt = '''Random: 0.14814814814814814 - Model: 0.209 Samples: 1000\n",
    "Random: 0.14814814814814814 - Model: 0.205 Samples: 1000\n",
    "Random: 0.14814814814814814 - Model: 0.204 Samples: 1000\n",
    "Random: 0.24691358024691357 - Model: 0.314 Samples: 1000\n",
    "Random: 0.14814814814814814 - Model: 0.195 Samples: 1000\n",
    "Random: 0.024691358024691357 - Model: 0.052 Samples: 1000\n",
    "Random: 0.13168724279835392 - Model: 0.2242798353909465 Samples: 1458\n",
    "Random: 0.0411522633744856 - Model: 0.04252400548696845 Samples: 1458\n",
    "Random: 0.0411522633744856 - Model: 0.03772290809327846 Samples: 1458\n",
    "Random: 0.00823045267489712 - Model: 0.010745313214449017 Samples: 4374\n",
    "Random: 0.05212620027434842 - Model: 0.06721536351165981 Samples: 4374\n",
    "Random: 0.0027434842249657062 - Model: 0.00823045267489712 Samples: 4374'''\n",
    "\n",
    "mix = '''Random: 0.14814814814814814 - Model: 0.244 Samples: 1000\n",
    "Random: 0.14814814814814814 - Model: 0.232 Samples: 1000\n",
    "Random: 0.14814814814814814 - Model: 0.232 Samples: 1000\n",
    "Random: 0.24691358024691357 - Model: 0.328 Samples: 1000\n",
    "Random: 0.14814814814814814 - Model: 0.166 Samples: 1000\n",
    "Random: 0.024691358024691357 - Model: 0.064 Samples: 1000\n",
    "Random: 0.13168724279835392 - Model: 0.21193415637860083 Samples: 1458\n",
    "Random: 0.0411522633744856 - Model: 0.04801097393689986 Samples: 1458\n",
    "Random: 0.0411522633744856 - Model: 0.04526748971193416 Samples: 1458\n",
    "Random: 0.00823045267489712 - Model: 0.013488797439414724 Samples: 4374\n",
    "Random: 0.05212620027434842 - Model: 0.07498856881572931 Samples: 4374\n",
    "Random: 0.0027434842249657062 - Model: 0.01417466849565615 Samples: 4374'''"
   ]
  },
  {
   "cell_type": "code",
   "execution_count": 3,
   "metadata": {},
   "outputs": [],
   "source": [
    "import re\n",
    "r =  re.findall(r'Random: (0.\\d+) .+',m1)\n",
    "m1 = re.findall(r'Model: (0.\\d+)',m1)\n",
    "dt = re.findall(r'Model: (0.\\d+)',dt)\n",
    "mix = re.findall(r'Model: (0.\\d+)',mix)"
   ]
  },
  {
   "cell_type": "code",
   "execution_count": 4,
   "metadata": {},
   "outputs": [],
   "source": [
    "r = [float(m) for m in r]\n",
    "m1 = [float(m) for m in m1]\n",
    "dt = [float(m) for m in dt]\n",
    "mix = [float(m) for m in mix]"
   ]
  },
  {
   "cell_type": "code",
   "execution_count": 5,
   "metadata": {},
   "outputs": [
    {
     "data": {
      "text/plain": [
       "12"
      ]
     },
     "execution_count": 5,
     "metadata": {},
     "output_type": "execute_result"
    }
   ],
   "source": [
    "cases = ['HPHHP',\n",
    " 'HHPHP',\n",
    " 'PHPHH',\n",
    " 'HHPHHP',\n",
    " 'HPPHHP',\n",
    " 'HPHPPH',\n",
    " 'PPPHPHH',\n",
    " 'PHPPPHH',\n",
    " 'PHPPPHH',\n",
    " 'HPHPPPHH',\n",
    " 'PHHHHHPH',\n",
    " 'HPPHPHPH']\n",
    "len(cases)"
   ]
  },
  {
   "cell_type": "code",
   "execution_count": 12,
   "metadata": {},
   "outputs": [
    {
     "name": "stdout",
     "output_type": "stream",
     "text": [
      "0\n",
      "1\n",
      "2\n",
      "3\n",
      "4\n",
      "5\n",
      "6\n",
      "7\n",
      "8\n",
      "9\n",
      "10\n",
      "11\n"
     ]
    },
    {
     "data": {
      "image/png": "[encoded data removed]",
      "text/plain": [
       "<Figure size 1440x720 with 12 Axes>"
      ]
     },
     "metadata": {
      "needs_background": "light"
     },
     "output_type": "display_data"
    }
   ],
   "source": [
    "fig, ax = plt.subplots(3,4,figsize=(20,10),constrained_layout=True)\n",
    "colors = ['gray'] + ['#1C769D','#C22929','#715298']\n",
    "model = [r,m1,dt,mix]\n",
    "names = ['random','model1','arvore\\;de\\;decisao','mistura']\n",
    "for i in range(3):\n",
    "    for j in range(4):\n",
    "        print(i*4+j)\n",
    "        ax[i][j].set_title(f'${cases[i*4+j]}$',fontsize = 14)\n",
    "        for k in range(4):\n",
    "            ax[i][j].bar(k,model[k][i*4+j],color=colors[k])\n",
    "        ax[i,j].set_xticks(list(range(4)))\n",
    "        ax[i,j].set_xticklabels([f'${c}$' for c in names],rotation=45)\n",
    "PATH = 'C:/Users/reasc/OneDrive - Universidade do Minho (1)/Mestrado/Primer Semestre/PP/probabilistic_programming/Short Talks/Protein Fold 2D/Graficos/'\n",
    "fig.savefig(PATH+'Comparativa.svg',transparent=True)"
   ]
  },
  {
   "cell_type": "code",
   "execution_count": 20,
   "metadata": {},
   "outputs": [
    {
     "data": {
      "text/plain": [
       "16"
      ]
     },
     "execution_count": 20,
     "metadata": {},
     "output_type": "execute_result"
    }
   ],
   "source": [
    "Inputs = [\"HPPHHPH\",\"HPHHHPHHPH\",\"HPPHPPPPHPPHP\",\"HHPHPPHPHPHHPH\",\"HPHHHHHHHHHPHH\",\"HHHPPHHHHHPHHH\",\"HHHHHPPHHHHPHH\",\"HPHHPPPHHHHHHH\",\n",
    "          \"HHHPHHPPPHHPHH\",\"HHPHHHHHPPPPPH\",\"HHPPHHHPHPPHPH\",\"HHHPPPPHPHHPHH\",\"HPHPPHHPHPPHPHHPPHPH\",\"HHHPPHPHPHPPHPHPHPPH\",\n",
    "          \"HHHHHPHHPHHHHPPHHHHHH\",\"PHPPHPHHHPHPPHPHHHPPH\"]\n",
    "\n",
    "len(Inputs)"
   ]
  },
  {
   "cell_type": "code",
   "execution_count": 23,
   "metadata": {},
   "outputs": [],
   "source": [
    "know = [2,4,4,6,7,7,7,6,6,4,6,5,9,10,12,9]\n",
    "rigid = [2,4,4,6,7,7,7,6,6,4,6,5,9,10,12,9]\n",
    "flexible = [2,4,2,5,7,7,6,5,5,4,5,5,4,7,9,4]\n",
    "greedy = [2,4,4,6,7,7,7,6,6,4,6,5,8,9,11,9]\n",
    "partial = [2,4,3,6,7,6,6,6,6,4,4,5,6,8,11,7]"
   ]
  },
  {
   "cell_type": "code",
   "execution_count": 25,
   "metadata": {},
   "outputs": [],
   "source": [
    "M1_1 = [pd.read_pickle(f'data/results/m1{i}.pkl') for i in range(16)]\n",
    "M1_2 = [pd.read_pickle(f'data/results_2/m1{i}.pkl') for i in range(16)]"
   ]
  },
  {
   "cell_type": "code",
   "execution_count": 71,
   "metadata": {},
   "outputs": [],
   "source": [
    "def evalueate_model(df,E):\n",
    "    aux = df.loc[df['energy'] == df['max_energy'][0]]\n",
    "    aux = aux.groupby('direction').agg(['max', 'count'])\n",
    "    l = len(aux)\n",
    "    return {'error':np.abs(E-df['max_energy'][0]),'num_sols':l,'sols':list(aux.index)}\n",
    "\n",
    "def compare_models(df1,df2,E):\n",
    "    aux = evalueate_model(df1,E)\n",
    "    baux = evalueate_model(df2,E)\n",
    "    if aux['error'] < baux['error']:\n",
    "        print('1')\n",
    "        return df1\n",
    "    if aux['error'] > baux['error']:\n",
    "        print('2')\n",
    "        return df2\n",
    "    if aux['num_sols'] > baux['num_sols']:\n",
    "        print('1')\n",
    "        return df1\n",
    "    print('2')\n",
    "    return df2"
   ]
  },
  {
   "cell_type": "code",
   "execution_count": 73,
   "metadata": {},
   "outputs": [
    {
     "name": "stdout",
     "output_type": "stream",
     "text": [
      "2\n",
      "2\n",
      "2\n",
      "2\n",
      "2\n",
      "2\n",
      "2\n",
      "2\n",
      "2\n",
      "2\n",
      "2\n",
      "2\n",
      "2\n",
      "2\n",
      "2\n",
      "2\n"
     ]
    }
   ],
   "source": [
    "M1 = [compare_models(M1_1[i],M1_2[i],know[i]) for i in range(16)]"
   ]
  },
  {
   "cell_type": "code",
   "execution_count": 74,
   "metadata": {},
   "outputs": [],
   "source": [
    "DT_1 = [pd.read_pickle(f'data/results_2/dt{i}.pkl') for i in range(16)]\n",
    "DT_2 = [pd.read_pickle(f'data/results_3/dt{i}.pkl') for i in range(16)]"
   ]
  },
  {
   "cell_type": "code",
   "execution_count": 75,
   "metadata": {},
   "outputs": [
    {
     "name": "stdout",
     "output_type": "stream",
     "text": [
      "2\n",
      "2\n",
      "1\n",
      "1\n",
      "1\n",
      "1\n",
      "2\n",
      "2\n",
      "2\n",
      "1\n",
      "2\n",
      "2\n",
      "1\n",
      "2\n",
      "2\n",
      "1\n"
     ]
    }
   ],
   "source": [
    "DT = [compare_models(DT_1[i],DT_2[i],know[i]) for i in range(16)]"
   ]
  },
  {
   "cell_type": "code",
   "execution_count": 76,
   "metadata": {},
   "outputs": [],
   "source": [
    "MIX = [pd.read_pickle(f'data/results_3/mix{i}.pkl') for i in range(16)]"
   ]
  },
  {
   "cell_type": "code",
   "execution_count": 80,
   "metadata": {},
   "outputs": [],
   "source": [
    "data = []\n",
    "for i in range(16):\n",
    "    data.append([Inputs[i],-know[i],-flexible[i],-greedy[i],-partial[i],-M1[i]['max_energy'][0],-DT[i]['max_energy'][0],-MIX[i]['max_energy'][0]])\n",
    "df = pd.DataFrame(data,columns=['Input','Known lowest energy','Flexible criterion','Greedy algorithm','Partial state space','Modelo1','Arvore de Decisao','Mix'])"
   ]
  },
  {
   "cell_type": "code",
   "execution_count": 81,
   "metadata": {},
   "outputs": [
    {
     "data": {
      "text/html": [
       "<div>\n",
       "<style scoped>\n",
       "    .dataframe tbody tr th:only-of-type {\n",
       "        vertical-align: middle;\n",
       "    }\n",
       "\n",
       "    .dataframe tbody tr th {\n",
       "        vertical-align: top;\n",
       "    }\n",
       "\n",
       "    .dataframe thead th {\n",
       "        text-align: right;\n",
       "    }\n",
       "</style>\n",
       "<table border=\"1\" class=\"dataframe\">\n",
       "  <thead>\n",
       "    <tr style=\"text-align: right;\">\n",
       "      <th></th>\n",
       "      <th>Input</th>\n",
       "      <th>Known lowest energy</th>\n",
       "      <th>Flexible criterion</th>\n",
       "      <th>Greedy algorithm</th>\n",
       "      <th>Partial state space</th>\n",
       "      <th>Modelo1</th>\n",
       "      <th>Arvore de Decisao</th>\n",
       "      <th>Mix</th>\n",
       "    </tr>\n",
       "  </thead>\n",
       "  <tbody>\n",
       "    <tr>\n",
       "      <th>0</th>\n",
       "      <td>HPPHHPH</td>\n",
       "      <td>-2</td>\n",
       "      <td>-2</td>\n",
       "      <td>-2</td>\n",
       "      <td>-2</td>\n",
       "      <td>-2</td>\n",
       "      <td>-2</td>\n",
       "      <td>-2</td>\n",
       "    </tr>\n",
       "    <tr>\n",
       "      <th>1</th>\n",
       "      <td>HPHHHPHHPH</td>\n",
       "      <td>-4</td>\n",
       "      <td>-4</td>\n",
       "      <td>-4</td>\n",
       "      <td>-4</td>\n",
       "      <td>-4</td>\n",
       "      <td>-4</td>\n",
       "      <td>-4</td>\n",
       "    </tr>\n",
       "    <tr>\n",
       "      <th>2</th>\n",
       "      <td>HPPHPPPPHPPHP</td>\n",
       "      <td>-4</td>\n",
       "      <td>-2</td>\n",
       "      <td>-4</td>\n",
       "      <td>-3</td>\n",
       "      <td>-2</td>\n",
       "      <td>-3</td>\n",
       "      <td>-3</td>\n",
       "    </tr>\n",
       "    <tr>\n",
       "      <th>3</th>\n",
       "      <td>HHPHPPHPHPHHPH</td>\n",
       "      <td>-6</td>\n",
       "      <td>-5</td>\n",
       "      <td>-6</td>\n",
       "      <td>-6</td>\n",
       "      <td>-5</td>\n",
       "      <td>-5</td>\n",
       "      <td>-5</td>\n",
       "    </tr>\n",
       "    <tr>\n",
       "      <th>4</th>\n",
       "      <td>HPHHHHHHHHHPHH</td>\n",
       "      <td>-7</td>\n",
       "      <td>-7</td>\n",
       "      <td>-7</td>\n",
       "      <td>-7</td>\n",
       "      <td>-6</td>\n",
       "      <td>-7</td>\n",
       "      <td>-7</td>\n",
       "    </tr>\n",
       "    <tr>\n",
       "      <th>5</th>\n",
       "      <td>HHHPPHHHHHPHHH</td>\n",
       "      <td>-7</td>\n",
       "      <td>-7</td>\n",
       "      <td>-7</td>\n",
       "      <td>-6</td>\n",
       "      <td>-6</td>\n",
       "      <td>-6</td>\n",
       "      <td>-6</td>\n",
       "    </tr>\n",
       "    <tr>\n",
       "      <th>6</th>\n",
       "      <td>HHHHHPPHHHHPHH</td>\n",
       "      <td>-7</td>\n",
       "      <td>-6</td>\n",
       "      <td>-7</td>\n",
       "      <td>-6</td>\n",
       "      <td>-5</td>\n",
       "      <td>-7</td>\n",
       "      <td>-6</td>\n",
       "    </tr>\n",
       "    <tr>\n",
       "      <th>7</th>\n",
       "      <td>HPHHPPPHHHHHHH</td>\n",
       "      <td>-6</td>\n",
       "      <td>-5</td>\n",
       "      <td>-6</td>\n",
       "      <td>-6</td>\n",
       "      <td>-5</td>\n",
       "      <td>-5</td>\n",
       "      <td>-5</td>\n",
       "    </tr>\n",
       "    <tr>\n",
       "      <th>8</th>\n",
       "      <td>HHHPHHPPPHHPHH</td>\n",
       "      <td>-6</td>\n",
       "      <td>-5</td>\n",
       "      <td>-6</td>\n",
       "      <td>-6</td>\n",
       "      <td>-5</td>\n",
       "      <td>-4</td>\n",
       "      <td>-5</td>\n",
       "    </tr>\n",
       "    <tr>\n",
       "      <th>9</th>\n",
       "      <td>HHPHHHHHPPPPPH</td>\n",
       "      <td>-4</td>\n",
       "      <td>-4</td>\n",
       "      <td>-4</td>\n",
       "      <td>-4</td>\n",
       "      <td>-4</td>\n",
       "      <td>-4</td>\n",
       "      <td>-4</td>\n",
       "    </tr>\n",
       "    <tr>\n",
       "      <th>10</th>\n",
       "      <td>HHPPHHHPHPPHPH</td>\n",
       "      <td>-6</td>\n",
       "      <td>-5</td>\n",
       "      <td>-6</td>\n",
       "      <td>-4</td>\n",
       "      <td>-4</td>\n",
       "      <td>-6</td>\n",
       "      <td>-5</td>\n",
       "    </tr>\n",
       "    <tr>\n",
       "      <th>11</th>\n",
       "      <td>HHHPPPPHPHHPHH</td>\n",
       "      <td>-5</td>\n",
       "      <td>-5</td>\n",
       "      <td>-5</td>\n",
       "      <td>-5</td>\n",
       "      <td>-4</td>\n",
       "      <td>-4</td>\n",
       "      <td>-4</td>\n",
       "    </tr>\n",
       "    <tr>\n",
       "      <th>12</th>\n",
       "      <td>HPHPPHHPHPPHPHHPPHPH</td>\n",
       "      <td>-9</td>\n",
       "      <td>-4</td>\n",
       "      <td>-8</td>\n",
       "      <td>-6</td>\n",
       "      <td>-4</td>\n",
       "      <td>-5</td>\n",
       "      <td>-7</td>\n",
       "    </tr>\n",
       "    <tr>\n",
       "      <th>13</th>\n",
       "      <td>HHHPPHPHPHPPHPHPHPPH</td>\n",
       "      <td>-10</td>\n",
       "      <td>-7</td>\n",
       "      <td>-9</td>\n",
       "      <td>-8</td>\n",
       "      <td>-4</td>\n",
       "      <td>-6</td>\n",
       "      <td>-7</td>\n",
       "    </tr>\n",
       "    <tr>\n",
       "      <th>14</th>\n",
       "      <td>HHHHHPHHPHHHHPPHHHHHH</td>\n",
       "      <td>-12</td>\n",
       "      <td>-9</td>\n",
       "      <td>-11</td>\n",
       "      <td>-11</td>\n",
       "      <td>-10</td>\n",
       "      <td>-9</td>\n",
       "      <td>-8</td>\n",
       "    </tr>\n",
       "    <tr>\n",
       "      <th>15</th>\n",
       "      <td>PHPPHPHHHPHPPHPHHHPPH</td>\n",
       "      <td>-9</td>\n",
       "      <td>-4</td>\n",
       "      <td>-9</td>\n",
       "      <td>-7</td>\n",
       "      <td>-5</td>\n",
       "      <td>-5</td>\n",
       "      <td>-6</td>\n",
       "    </tr>\n",
       "  </tbody>\n",
       "</table>\n",
       "</div>"
      ],
      "text/plain": [
       "                    Input  Known lowest energy  Flexible criterion  \\\n",
       "0                 HPPHHPH                   -2                  -2   \n",
       "1              HPHHHPHHPH                   -4                  -4   \n",
       "2           HPPHPPPPHPPHP                   -4                  -2   \n",
       "3          HHPHPPHPHPHHPH                   -6                  -5   \n",
       "4          HPHHHHHHHHHPHH                   -7                  -7   \n",
       "5          HHHPPHHHHHPHHH                   -7                  -7   \n",
       "6          HHHHHPPHHHHPHH                   -7                  -6   \n",
       "7          HPHHPPPHHHHHHH                   -6                  -5   \n",
       "8          HHHPHHPPPHHPHH                   -6                  -5   \n",
       "9          HHPHHHHHPPPPPH                   -4                  -4   \n",
       "10         HHPPHHHPHPPHPH                   -6                  -5   \n",
       "11         HHHPPPPHPHHPHH                   -5                  -5   \n",
       "12   HPHPPHHPHPPHPHHPPHPH                   -9                  -4   \n",
       "13   HHHPPHPHPHPPHPHPHPPH                  -10                  -7   \n",
       "14  HHHHHPHHPHHHHPPHHHHHH                  -12                  -9   \n",
       "15  PHPPHPHHHPHPPHPHHHPPH                   -9                  -4   \n",
       "\n",
       "    Greedy algorithm  Partial state space  Modelo1  Arvore de Decisao  Mix  \n",
       "0                 -2                   -2       -2                 -2   -2  \n",
       "1                 -4                   -4       -4                 -4   -4  \n",
       "2                 -4                   -3       -2                 -3   -3  \n",
       "3                 -6                   -6       -5                 -5   -5  \n",
       "4                 -7                   -7       -6                 -7   -7  \n",
       "5                 -7                   -6       -6                 -6   -6  \n",
       "6                 -7                   -6       -5                 -7   -6  \n",
       "7                 -6                   -6       -5                 -5   -5  \n",
       "8                 -6                   -6       -5                 -4   -5  \n",
       "9                 -4                   -4       -4                 -4   -4  \n",
       "10                -6                   -4       -4                 -6   -5  \n",
       "11                -5                   -5       -4                 -4   -4  \n",
       "12                -8                   -6       -4                 -5   -7  \n",
       "13                -9                   -8       -4                 -6   -7  \n",
       "14               -11                  -11      -10                 -9   -8  \n",
       "15                -9                   -7       -5                 -5   -6  "
      ]
     },
     "execution_count": 81,
     "metadata": {},
     "output_type": "execute_result"
    }
   ],
   "source": [
    "df"
   ]
  },
  {
   "cell_type": "code",
   "execution_count": 133,
   "metadata": {},
   "outputs": [],
   "source": [
    "analise = []\n",
    "models = [M1,DT,MIX]\n",
    "sols = []\n",
    "sols_corrects = []\n",
    "for model in models:\n",
    "    data = []\n",
    "    for i in range(16):\n",
    "        aux = evalueate_model(model[i],know[i])\n",
    "        for sol in aux['sols']:\n",
    "            sols.append([Inputs[i],sol])\n",
    "            if aux['error'] == 0:\n",
    "                sols_corrects.append([Inputs[i],sol])\n",
    "        data.append([Inputs[i],np.round(aux['error']/know[i]*100,2),aux['num_sols']])\n",
    "    analise.append(pd.DataFrame(data,columns=['Input','Error','Num Sols']))"
   ]
  },
  {
   "cell_type": "code",
   "execution_count": 157,
   "metadata": {},
   "outputs": [
    {
     "name": "stdout",
     "output_type": "stream",
     "text": [
      "[[0.00708383 0.0063762  0.00642055]\n",
      " [0.01563288 0.01073493 0.01751208]\n",
      " [0.         0.         0.        ]\n",
      " [0.         0.         0.        ]\n",
      " [0.         0.00065531 0.00059207]\n",
      " [0.         0.         0.        ]\n",
      " [0.         0.00055157 0.        ]\n",
      " [0.         0.         0.        ]\n",
      " [0.         0.         0.        ]\n",
      " [0.00063052 0.00093327 0.0019656 ]\n",
      " [0.         0.00053505 0.        ]\n",
      " [0.         0.         0.        ]\n",
      " [0.         0.         0.        ]\n",
      " [0.         0.         0.        ]\n",
      " [0.         0.         0.        ]\n",
      " [0.         0.         0.        ]]\n"
     ]
    },
    {
     "data": {
      "text/plain": [
       "[0.0014592013603215751, 0.001236645119735192, 0.001655643207381455]"
      ]
     },
     "execution_count": 157,
     "metadata": {},
     "output_type": "execute_result"
    }
   ],
   "source": [
    "counts = []\n",
    "for i in range(16):\n",
    "    m = []\n",
    "    for j,model in enumerate(models):\n",
    "        if analise[j]['Error'][i] == 0:\n",
    "            m.append(analise[j]['Num Sols'][i]/model[i]['counts'][0])\n",
    "        else:\n",
    "            m.append(0/model[i]['counts'][0])\n",
    "    counts.append(m)\n",
    "counts = np.array(counts)\n",
    "print(counts)\n",
    "[np.mean(counts[:,i]) for i in range(3)]"
   ]
  },
  {
   "cell_type": "code",
   "execution_count": 165,
   "metadata": {},
   "outputs": [
    {
     "data": {
      "image/png": "[encoded data removed]",
      "text/plain": [
       "<Figure size 720x720 with 1 Axes>"
      ]
     },
     "metadata": {
      "needs_background": "light"
     },
     "output_type": "display_data"
    }
   ],
   "source": [
    "fig, ax = plt.subplots(figsize=(10,10))\n",
    "colors = ['#1C769D','#C22929','#715298']\n",
    "ax.set_title('$Soluções\\;Corretas\\;/\\;Iterações$',fontsize=20)\n",
    "for i in range(3):\n",
    "    ax.bar(i,np.mean(counts[:,i]),color = colors[i])\n",
    "ax.set_xticks(list(range(3)))\n",
    "ax.set_xticklabels([f'${s}$' for s in names[-3:]],rotation=60,fontsize=15);\n",
    "fig.savefig(PATH+'SOLS_ITER.svg',transparent=True)\n"
   ]
  },
  {
   "cell_type": "code",
   "execution_count": 113,
   "metadata": {},
   "outputs": [],
   "source": [
    "compara = [flexible,greedy,partial]\n",
    "names = ['Known lowest energy','Flexible criterion','Greedy algorithm','Partial state space','Modelo1','Arvore de Decisao','Mix']\n",
    "erros = [[],[],[],[],[],[]]\n",
    "correctos = [0,0,0,0,0,0]\n",
    "for n in range(16):\n",
    "    for k,c in enumerate(compara):\n",
    "        erros[k].append(np.abs(c[n]-know[n])/know[n])\n",
    "        if erros[k][-1] == 0:\n",
    "            correctos[k] += 1\n",
    "    for l,c in enumerate(range(k+1,k+len(models)+1)):\n",
    "        erros[c].append(analise[l]['Error'][n]/100)\n",
    "        e = analise[l]['Error'][n]/100\n",
    "        if e == 0:\n",
    "            correctos[c] += 1"
   ]
  },
  {
   "cell_type": "code",
   "execution_count": 130,
   "metadata": {},
   "outputs": [
    {
     "data": {
      "image/png": "[encoded data removed]",
      "text/plain": [
       "<Figure size 1440x720 with 2 Axes>"
      ]
     },
     "metadata": {
      "needs_background": "light"
     },
     "output_type": "display_data"
    }
   ],
   "source": [
    "fig,ax = plt.subplots(1,2,figsize=(20,10))\n",
    "colors = ['#85C061','#61C0A3','#D8C242'] + ['#1C769D','#C22929','#715298']\n",
    "ax[0].set_title('$Media\\;dos\\;Erros\\;Relativos$',fontsize=20)\n",
    "ax[1].set_title('$Percentagem\\;de\\;Sucesso$',fontsize=20)\n",
    "for i,erro in enumerate(erros):\n",
    "    ax[0].bar(i,np.mean(erro),color=colors[i])\n",
    "    ax[1].bar(i,correctos[i]/16,color=colors[i])\n",
    "ax[0].set_xticks(list(range(6)))\n",
    "ax[1].set_xticks(list(range(6)))\n",
    "import re\n",
    "names = [re.sub(' ',r'\\\\;',s) for s in names]\n",
    "ax[0].set_xticklabels([f'${s}$' for s in names[1:]],rotation=60,fontsize=15);\n",
    "ax[1].set_xticklabels([f'${s}$' for s in names[1:]],rotation=60,fontsize=15);\n",
    "fig.savefig(PATH+'erros_succeso.svg',transparent=True)"
   ]
  },
  {
   "cell_type": "code",
   "execution_count": 158,
   "metadata": {},
   "outputs": [
    {
     "data": {
      "text/plain": [
       "[['HPPHHPH', 'SFLLFRR'],\n",
       " ['HPPHHPH', 'SFLLRLL'],\n",
       " ['HPPHHPH', 'SFRRFLL'],\n",
       " ['HPPHHPH', 'SFRRLRR'],\n",
       " ['HPPHHPH', 'SLLLFRR'],\n",
       " ['HPPHHPH', 'SLLLRLL'],\n",
       " ['HPPHHPH', 'SLRRFLL'],\n",
       " ['HPPHHPH', 'SLRRLRR'],\n",
       " ['HPPHHPH', 'SRLLFRR'],\n",
       " ['HPPHHPH', 'SRLLRLL'],\n",
       " ['HPPHHPH', 'SRRRFLL'],\n",
       " ['HPPHHPH', 'SRRRLRR'],\n",
       " ['HPHHHPHHPH', 'SFLFFLLFRR'],\n",
       " ['HPHHHPHHPH', 'SFLFLRLLFL'],\n",
       " ['HPHHHPHHPH', 'SFLLRLLFFL'],\n",
       " ['HPHHHPHHPH', 'SFLRFLLFFL'],\n",
       " ['HPHHHPHHPH', 'SFRFRLRRFR'],\n",
       " ['HPHHHPHHPH', 'SFRRLFLLRL'],\n",
       " ['HPHHHPHHPH', 'SLLFFLLRLL'],\n",
       " ['HPHHHPHHPH', 'SLLFLRLLFL'],\n",
       " ['HPHHHPHHPH', 'SLLLFFLLRR'],\n",
       " ['HPHHHPHHPH', 'SLLLRFRFRR'],\n",
       " ['HPHHHPHHPH', 'SLLLRFRRLR'],\n",
       " ['HPHHHPHHPH', 'SLLLRLLFFL'],\n",
       " ['HPHHHPHHPH', 'SLLLRLLFRR'],\n",
       " ['HPHHHPHHPH', 'SLLLRLRRFR'],\n",
       " ['HPHHHPHHPH', 'SLRLRFRRLR'],\n",
       " ['HPHHHPHHPH', 'SLRRFFRRLL'],\n",
       " ['HPHHHPHHPH', 'SLRRFLLFFL'],\n",
       " ['HPHHHPHHPH', 'SLRRLRRFLL'],\n",
       " ['HPHHHPHHPH', 'SLRRLRRLRR'],\n",
       " ['HPHHHPHHPH', 'SRLFFLLFRR'],\n",
       " ['HPHHHPHHPH', 'SRLLFFLLRL'],\n",
       " ['HPHHHPHHPH', 'SRRFFRRFLL'],\n",
       " ['HPHHHPHHPH', 'SRRFFRRLRR'],\n",
       " ['HPHHHPHHPH', 'SRRRFFRFRR'],\n",
       " ['HPHHHPHHPH', 'SRRRFFRRLR'],\n",
       " ['HPHHHPHHPH', 'SRRRFLLRLL'],\n",
       " ['HPHHHPHHPH', 'SRRRLFLFLL'],\n",
       " ['HPHHHPHHPH', 'SRRRLFLLRL'],\n",
       " ['HPHHHPHHPH', 'SRRRLFLLRR'],\n",
       " ['HPHHHPHHPH', 'SRRRLRRFLL'],\n",
       " ['HPHHHPHHPH', 'SRRRLRRLRR'],\n",
       " ['HHPHHHHHPPPPPH', 'SLLLFLRFRLRRFR'],\n",
       " ['HPPHHPH', 'SFLLFRR'],\n",
       " ['HPPHHPH', 'SFLLRLL'],\n",
       " ['HPPHHPH', 'SFRRFLL'],\n",
       " ['HPPHHPH', 'SFRRLRR'],\n",
       " ['HPPHHPH', 'SLLLFRR'],\n",
       " ['HPPHHPH', 'SLLLRLL'],\n",
       " ['HPPHHPH', 'SLRRFLL'],\n",
       " ['HPPHHPH', 'SLRRLRR'],\n",
       " ['HPPHHPH', 'SRLLFRR'],\n",
       " ['HPPHHPH', 'SRLLRLL'],\n",
       " ['HPPHHPH', 'SRRRFLL'],\n",
       " ['HPPHHPH', 'SRRRLRR'],\n",
       " ['HPHHHPHHPH', 'SFLLFRLLFL'],\n",
       " ['HPHHHPHHPH', 'SFLLFRRFFR'],\n",
       " ['HPHHHPHHPH', 'SFLLRFRFRR'],\n",
       " ['HPHHHPHHPH', 'SFLLRFRRLL'],\n",
       " ['HPHHHPHHPH', 'SFRRFLLRLL'],\n",
       " ['HPHHHPHHPH', 'SFRRLRLLFL'],\n",
       " ['HPHHHPHHPH', 'SLLLFRRFFR'],\n",
       " ['HPHHHPHHPH', 'SLLLRLLFFL'],\n",
       " ['HPHHHPHHPH', 'SLLLRLRRFR'],\n",
       " ['HPHHHPHHPH', 'SLLRFLLFFL'],\n",
       " ['HPHHHPHHPH', 'SLRLRFRRLR'],\n",
       " ['HPHHHPHHPH', 'SLRRFFRRLL'],\n",
       " ['HPHHHPHHPH', 'SLRRLFLLRL'],\n",
       " ['HPHHHPHHPH', 'SLRRLRLLFL'],\n",
       " ['HPHHHPHHPH', 'SRLFFLLFRL'],\n",
       " ['HPHHHPHHPH', 'SRLFLRLLFL'],\n",
       " ['HPHHHPHHPH', 'SRLLFFLLRL'],\n",
       " ['HPHHHPHHPH', 'SRLLFRRFLL'],\n",
       " ['HPHHHPHHPH', 'SRLLFRRLRR'],\n",
       " ['HPHHHPHHPH', 'SRLLRFRRLL'],\n",
       " ['HPHHHPHHPH', 'SRLRLFLLRL'],\n",
       " ['HPHHHPHHPH', 'SRRLFRRFFR'],\n",
       " ['HPHHHPHHPH', 'SRRLRFRRLR'],\n",
       " ['HPHHHPHHPH', 'SRRRFFRRLR'],\n",
       " ['HPHHHPHHPH', 'SRRRLFLLRL'],\n",
       " ['HPHHHPHHPH', 'SRRRLRRLRR'],\n",
       " ['HPHHHHHHHHHPHH', 'SFRRLRRFLLFFLF'],\n",
       " ['HHHHHPPHHHHPHH', 'SRRRLFLLRLFRRF'],\n",
       " ['HHPHHHHHPPPPPH', 'SFRRLRRFFLFLLR'],\n",
       " ['HHPHHHHHPPPPPH', 'SLRLLFLRFLLRLL'],\n",
       " ['HHPPHHHPHPPHPH', 'SFRLLFLRLRLLFL'],\n",
       " ['HPPHHPH', 'SFLLFRR'],\n",
       " ['HPPHHPH', 'SFLLRLL'],\n",
       " ['HPPHHPH', 'SFRRFLL'],\n",
       " ['HPPHHPH', 'SFRRLRR'],\n",
       " ['HPPHHPH', 'SLLLFRR'],\n",
       " ['HPPHHPH', 'SLLLRLL'],\n",
       " ['HPPHHPH', 'SLRRFLL'],\n",
       " ['HPPHHPH', 'SLRRLRR'],\n",
       " ['HPPHHPH', 'SRLLFRR'],\n",
       " ['HPPHHPH', 'SRLLRLL'],\n",
       " ['HPPHHPH', 'SRRRFLL'],\n",
       " ['HPPHHPH', 'SRRRLRR'],\n",
       " ['HPHHHPHHPH', 'SFLFLRLLFL'],\n",
       " ['HPHHHPHHPH', 'SFLLRLLRLL'],\n",
       " ['HPHHHPHHPH', 'SFLRFLLFFL'],\n",
       " ['HPHHHPHHPH', 'SFRLFRRFFR'],\n",
       " ['HPHHHPHHPH', 'SFRRFLLRLL'],\n",
       " ['HPHHHPHHPH', 'SFRRLFLLRL'],\n",
       " ['HPHHHPHHPH', 'SFRRLRRFFR'],\n",
       " ['HPHHHPHHPH', 'SLLLFFLFLL'],\n",
       " ['HPHHHPHHPH', 'SLLLFRLLFL'],\n",
       " ['HPHHHPHHPH', 'SLLLFRRFFR'],\n",
       " ['HPHHHPHHPH', 'SLLLRFRRLL'],\n",
       " ['HPHHHPHHPH', 'SLLRLFLLRL'],\n",
       " ['HPHHHPHHPH', 'SLRLFRRFFR'],\n",
       " ['HPHHHPHHPH', 'SLRLRFRRLR'],\n",
       " ['HPHHHPHHPH', 'SLRRFFRRLR'],\n",
       " ['HPHHHPHHPH', 'SLRRFLLFFL'],\n",
       " ['HPHHHPHHPH', 'SLRRFLLRLL'],\n",
       " ['HPHHHPHHPH', 'SLRRLFLLRR'],\n",
       " ['HPHHHPHHPH', 'SLRRLRRLRR'],\n",
       " ['HPHHHPHHPH', 'SRLFFLLRLL'],\n",
       " ['HPHHHPHHPH', 'SRLFLRLLFL'],\n",
       " ['HPHHHPHHPH', 'SRLLRFRRLL'],\n",
       " ['HPHHHPHHPH', 'SRLLRLLRLL'],\n",
       " ['HPHHHPHHPH', 'SRRLFRRFFR'],\n",
       " ['HPHHHPHHPH', 'SRRRFLRRFR'],\n",
       " ['HPHHHPHHPH', 'SRRRLFLFLL'],\n",
       " ['HPHHHPHHPH', 'SRRRLFLLRL'],\n",
       " ['HPHHHPHHPH', 'SRRRLFLLRR'],\n",
       " ['HPHHHPHHPH', 'SRRRLRRLRR'],\n",
       " ['HPHHHHHHHHHPHH', 'SFLLRLLFRRFLLF'],\n",
       " ['HHPHHHHHPPPPPH', 'SFLLRLLRFLFLLR'],\n",
       " ['HHPHHHHHPPPPPH', 'SRLLRLLFRLLRLL'],\n",
       " ['HHPHHHHHPPPPPH', 'SRRRFRFRLFFLLF'],\n",
       " ['HHPHHHHHPPPPPH', 'SRRRFRLLRLRRFR']]"
      ]
     },
     "execution_count": 158,
     "metadata": {},
     "output_type": "execute_result"
    }
   ],
   "source": [
    "sols_corrects"
   ]
  }
 ],
 "metadata": {
  "interpreter": {
   "hash": "b1cbc199116ca0050f15b4a096ee5586221393ef42f89efdf0ba89fccf25361f"
  },
  "kernelspec": {
   "display_name": "Python 3.8.8 64-bit ('base': conda)",
   "name": "python3"
  },
  "language_info": {
   "codemirror_mode": {
    "name": "ipython",
    "version": 3
   },
   "file_extension": ".py",
   "mimetype": "text/x-python",
   "name": "python",
   "nbconvert_exporter": "python",
   "pygments_lexer": "ipython3",
   "version": "3.9.7"
  },
  "orig_nbformat": 4
 },
 "nbformat": 4,
 "nbformat_minor": 2
}
