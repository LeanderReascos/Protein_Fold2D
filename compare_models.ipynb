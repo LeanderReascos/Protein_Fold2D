{
 "cells": [
  {
   "cell_type": "code",
   "execution_count": 19,
   "source": [
    "from test_model import compare_models\r\n",
    "from models.decision_tree.decision_tree import model as dt\r\n",
    "from models.model1.decision_tree import model as m1\r\n",
    "from libs.functions import make_experiment"
   ],
   "outputs": [],
   "metadata": {}
  },
  {
   "cell_type": "code",
   "execution_count": 27,
   "source": [
    "Inputs = [\"HPPHHPH\",\"HPHHHPHHPH\",\"HPPHPPPPHPPHP\",\"HHPHPPHPHPHHPH\",\"HPHHHHHHHHHPHH\",\"HHHPPHHHHHPHHH\",\"HHHHHPPHHHHPHH\",\"HPHHPPPHHHHHHH\",\r\n",
    "          \"HHHPHHPPPHHPHH\",\"HHPHHHHHPPPPPH\",\"HHPPHHHPHPPHPH\",\"HHHPPPPHPHHPHH\",\"HPHPPHHPHPPHPHHPPHPH\",\"HHHPPHPHPHPPHPHPHPPH\",\r\n",
    "          \"HHHHHPHHPHHHHPPHHHHHH\",\"PHPPHPHHHPHPPHPHHHPPH\"]\r\n",
    "\r\n",
    "dics_dt = []\r\n",
    "dics_m1 = []\r\n",
    "\r\n",
    "for i in range(len(Inputs)):\r\n",
    "    dics_m1.append(compare_models(m1,Inputs[i],500))\r\n",
    "    dics_dt.append(compare_models(dt,Inputs[i],500))\r\n",
    "\r\n",
    "for i in range(len(dics_m1)):\r\n",
    "    print(f\" {i+1} : Modelo : m1, Input : {Inputs[i]}, Energia máxima :{dics_m1[i]['max_energy']}, Energia média :{dics_m1[i]['energy']}, Desvio padrão : {dics_m1[i]['standard_devi']}, counts : {dics_m1[i]['counts']}\")\r\n",
    "    print(f\" {i+1} : Modelo : dt, Input : {Inputs[i]}, Energia máxima :{dics_dt[i]['max_energy']}, Energia média :{dics_m1[i]['energy']}, Desvio padrão : {dics_dt[i]['standard_devi']}, counts : {dics_dt[i]['counts']}\")\r\n"
   ],
   "outputs": [
    {
     "output_type": "stream",
     "name": "stdout",
     "text": [
      " 1 : Modelo : m1, Input : HPPHHPH, Energia máxima :2, Desvio padrão : 0.32659863237109044, counts : 319\n",
      " 1 : Modelo : dt, Input : HPPHHPH, Energia máxima :2, Desvio padrão : 0.2190429135575903, counts : 383\n",
      " 2 : Modelo : m1, Input : HPHHHPHHPH, Energia máxima :4, Desvio padrão : 0.8333333333333334, counts : 281\n",
      " 2 : Modelo : dt, Input : HPHHHPHHPH, Energia máxima :4, Desvio padrão : 0.6459665063087461, counts : 297\n",
      " 3 : Modelo : m1, Input : HPPHPPPPHPPHP, Energia máxima :2, Desvio padrão : 0.31446603773522014, counts : 494\n",
      " 3 : Modelo : dt, Input : HPPHPPPPHPPHP, Energia máxima :2, Desvio padrão : 0.30151134457776363, counts : 588\n",
      " 4 : Modelo : m1, Input : HHPHPPHPHPHHPH, Energia máxima :5, Desvio padrão : 0.8932971498777984, counts : 503\n",
      " 4 : Modelo : dt, Input : HHPHPPHPHPHHPH, Energia máxima :6, Desvio padrão : 0.8221061889187953, counts : 553\n",
      " 5 : Modelo : m1, Input : HPHHHHHHHHHPHH, Energia máxima :6, Desvio padrão : 1.1950656125007606, counts : 360\n",
      " 5 : Modelo : dt, Input : HPHHHHHHHHHPHH, Energia máxima :6, Desvio padrão : 1.2316942425255981, counts : 376\n",
      " 6 : Modelo : m1, Input : HHHPPHHHHHPHHH, Energia máxima :5, Desvio padrão : 1.0456258094238748, counts : 564\n",
      " 6 : Modelo : dt, Input : HHHPPHHHHHPHHH, Energia máxima :5, Desvio padrão : 1.0963668190985179, counts : 440\n",
      " 7 : Modelo : m1, Input : HHHHHPPHHHHPHH, Energia máxima :5, Desvio padrão : 0.9490026662797426, counts : 350\n",
      " 7 : Modelo : dt, Input : HHHHHPPHHHHPHH, Energia máxima :5, Desvio padrão : 0.9395356686828196, counts : 401\n",
      " 8 : Modelo : m1, Input : HPHHPPPHHHHHHH, Energia máxima :4, Desvio padrão : 0.831452422759794, counts : 395\n",
      " 8 : Modelo : dt, Input : HPHHPPPHHHHHHH, Energia máxima :5, Desvio padrão : 0.7792122414154677, counts : 437\n",
      " 9 : Modelo : m1, Input : HHHPHHPPPHHPHH, Energia máxima :3, Desvio padrão : 0.5860327153276884, counts : 475\n",
      " 9 : Modelo : dt, Input : HHHPHHPPPHHPHH, Energia máxima :3, Desvio padrão : 0.5924610544247622, counts : 477\n",
      " 10 : Modelo : m1, Input : HHPHHHHHPPPPPH, Energia máxima :4, Desvio padrão : 0.6066966359563963, counts : 448\n",
      " 10 : Modelo : dt, Input : HHPHHHHHPPPPPH, Energia máxima :3, Desvio padrão : 0.5860327153276884, counts : 683\n",
      " 11 : Modelo : m1, Input : HHPPHHHPHPPHPH, Energia máxima :4, Desvio padrão : 0.7849596270902193, counts : 689\n",
      " 11 : Modelo : dt, Input : HHPPHHHPHPPHPH, Energia máxima :5, Desvio padrão : 0.9120960431441373, counts : 675\n",
      " 12 : Modelo : m1, Input : HHHPPPPHPHHPHH, Energia máxima :3, Desvio padrão : 0.5482755334738735, counts : 565\n",
      " 12 : Modelo : dt, Input : HHHPPPPHPHHPHH, Energia máxima :3, Desvio padrão : 0.5096047190685833, counts : 466\n",
      " 13 : Modelo : m1, Input : HPHPPHHPHPPHPHHPPHPH, Energia máxima :4, Desvio padrão : 0.778498944161523, counts : 961\n",
      " 13 : Modelo : dt, Input : HPHPPHHPHPPHPHHPPHPH, Energia máxima :4, Desvio padrão : 0.8297498710363556, counts : 1148\n",
      " 14 : Modelo : m1, Input : HHHPPHPHPHPPHPHPHPPH, Energia máxima :4, Desvio padrão : 0.8274946977156257, counts : 1242\n",
      " 14 : Modelo : dt, Input : HHHPPHPHPHPPHPHPHPPH, Energia máxima :5, Desvio padrão : 1.005037815259212, counts : 764\n",
      " 15 : Modelo : m1, Input : HHHHHPHHPHHHHPPHHHHHH, Energia máxima :8, Desvio padrão : 1.3624102231565998, counts : 944\n",
      " 15 : Modelo : dt, Input : HHHHHPHHPHHHHPPHHHHHH, Energia máxima :7, Desvio padrão : 1.5166083904887941, counts : 1051\n",
      " 16 : Modelo : m1, Input : PHPPHPHHHPHPPHPHHHPPH, Energia máxima :4, Desvio padrão : 0.8862587350511957, counts : 988\n",
      " 16 : Modelo : dt, Input : PHPPHPHHHPHPPHPHHHPPH, Energia máxima :6, Desvio padrão : 1.1214618886421275, counts : 979\n"
     ]
    }
   ],
   "metadata": {}
  },
  {
   "cell_type": "code",
   "execution_count": 34,
   "source": [
    "for i in range(len(dics_dt)):\r\n",
    "    pandas.DataFrame(dics_dt[i]).to_pickle(f\"data/results/dt{i}.pkl\")\r\n",
    "    pandas.DataFrame(dics_m1[i]).to_pickle(f\"data/results/m1{i}.pkl\")"
   ],
   "outputs": [],
   "metadata": {}
  },
  {
   "cell_type": "code",
   "execution_count": 2,
   "source": [
    "import pandas\r\n",
    "\r\n",
    "dics_dt = pandas.read_pickle(\"data/results/dt3.pkl\")"
   ],
   "outputs": [],
   "metadata": {}
  },
  {
   "cell_type": "code",
   "execution_count": 9,
   "source": [
    "for i,direction in enumerate(dics_dt[\"direction\"]):\r\n",
    "    if dics_dt[\"energy\"][i] == 6:\r\n",
    "        print(direction)\r\n",
    "a = list(itertools.product(\"RLF\",repeat = 13))\r\n",
    "\r\n",
    "variavel = \"LLLRLLRLRLLFL\"\r\n",
    "\r\n",
    "for i in range(len(a)):\r\n",
    "    aux = True\r\n",
    "    for j in range(13):\r\n",
    "        aux = aux and a[i][j] == variavel[j]\r\n",
    "    if aux :\r\n",
    "        print(a[i])\r\n",
    "        print(i)\r\n"
   ],
   "outputs": [
    {
     "output_type": "stream",
     "name": "stdout",
     "text": [
      "SLLLRLLRLRLLFL\n",
      "('L', 'L', 'L', 'R', 'L', 'L', 'R', 'L', 'R', 'L', 'L', 'F', 'L')\n",
      "776671\n"
     ]
    }
   ],
   "metadata": {}
  },
  {
   "cell_type": "code",
   "execution_count": 6,
   "source": [
    "import itertools"
   ],
   "outputs": [],
   "metadata": {}
  },
  {
   "cell_type": "code",
   "execution_count": null,
   "source": [],
   "outputs": [],
   "metadata": {}
  }
 ],
 "metadata": {
  "orig_nbformat": 4,
  "language_info": {
   "name": "python",
   "version": "3.8.8",
   "mimetype": "text/x-python",
   "codemirror_mode": {
    "name": "ipython",
    "version": 3
   },
   "pygments_lexer": "ipython3",
   "nbconvert_exporter": "python",
   "file_extension": ".py"
  },
  "kernelspec": {
   "name": "python3",
   "display_name": "Python 3.8.8 64-bit ('base': conda)"
  },
  "interpreter": {
   "hash": "b1cbc199116ca0050f15b4a096ee5586221393ef42f89efdf0ba89fccf25361f"
  }
 },
 "nbformat": 4,
 "nbformat_minor": 2
}