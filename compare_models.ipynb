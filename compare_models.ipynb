{
 "cells": [
  {
   "cell_type": "code",
   "execution_count": 1,
   "metadata": {},
   "outputs": [],
   "source": [
    "from test_model import compare_models\n",
    "from models.decision_tree.decision_tree import model as dt\n",
    "from models.model1.decision_tree import model as m1\n",
    "from libs.functions import make_experiment"
   ]
  },
  {
   "cell_type": "code",
   "execution_count": 2,
   "metadata": {},
   "outputs": [
    {
     "name": "stdout",
     "output_type": "stream",
     "text": [
      " 1 : Modelo : m1, Input : HPPHHPH, Energia máxima :2, Energia média :[1, 1, 1, 1, 1, 1, 1, 1, 1, 1, 2, 2, 2, 2, 2, 2, 2, 2, 2, 2, 2, 2, 2, 2, 2, 2, 2, 2, 2, 2, 2, 2, 2, 2, 2, 2, 2, 2, 2, 2, 2, 2, 2, 2, 2, 2, 2, 2, 2, 2], Desvio padrão : 0.4040610178208843, counts : 1442\n",
      " 1 : Modelo : dt, Input : HPPHHPH, Energia máxima :2, Energia média :[1, 1, 1, 1, 1, 1, 1, 1, 1, 1, 2, 2, 2, 2, 2, 2, 2, 2, 2, 2, 2, 2, 2, 2, 2, 2, 2, 2, 2, 2, 2, 2, 2, 2, 2, 2, 2, 2, 2, 2, 2, 2, 2, 2, 2, 2, 2, 2, 2, 2], Desvio padrão : 0.38808793449160356, counts : 1520\n",
      " 2 : Modelo : m1, Input : HPHHHPHHPH, Energia máxima :4, Energia média :[1, 2, 1, 1, 1, 1, 3, 1, 2, 1, 2, 2, 2, 3, 2, 3, 2, 2, 2, 3, 2, 2, 2, 4, 2, 4, 2, 2, 2, 4, 4, 3, 4, 3, 3, 4, 3, 3, 3, 4, 4, 4, 3, 4, 3, 4, 4, 4, 4, 3], Desvio padrão : 1.0388376550113054, counts : 662\n",
      " 2 : Modelo : dt, Input : HPHHHPHHPH, Energia máxima :4, Energia média :[1, 2, 1, 1, 1, 1, 3, 1, 2, 1, 2, 2, 2, 3, 2, 3, 2, 2, 2, 3, 2, 2, 2, 4, 2, 4, 2, 2, 2, 4, 4, 3, 4, 3, 3, 4, 3, 3, 3, 4, 4, 4, 3, 4, 3, 4, 4, 4, 4, 3], Desvio padrão : 0.8935140440635365, counts : 941\n",
      " 3 : Modelo : m1, Input : HPPHPPPPHPPHP, Energia máxima :2, Energia média :[1, 1, 1, 1, 1, 1, 2, 1, 1, 2, 2, 2, 2, 2, 2, 2, 2, 2, 2, 2, 2, 2, 2, 2, 2, 2, 2, 2, 2, 2, 2, 2, 2, 2, 2, 2, 2, 2, 2, 2], Desvio padrão : 0.40509574683346666, counts : 1802\n",
      " 3 : Modelo : dt, Input : HPPHPPPPHPPHP, Energia máxima :2, Energia média :[1, 1, 1, 1, 1, 1, 2, 1, 1, 2, 2, 2, 2, 2, 2, 2, 2, 2, 2, 2, 2, 2, 2, 2, 2, 2, 2, 2, 2, 2, 2, 2, 2, 2, 2, 2, 2, 2, 2, 2], Desvio padrão : 0.3848076442547927, counts : 2016\n",
      " 4 : Modelo : m1, Input : HHPHPPHPHPHHPH, Energia máxima :4, Energia média :[3, 3, 2, 2, 1, 3, 2, 2, 1, 1, 3, 3, 3, 3, 4, 3, 3, 3, 3, 3, 4, 3, 4, 3, 4, 4, 3, 3, 4, 4, 3, 3, 3, 3, 3, 3, 3, 3, 3, 3, 3, 3, 3, 3, 4, 3, 3, 3, 3, 4], Desvio padrão : 0.7139999428342743, counts : 1131\n",
      " 4 : Modelo : dt, Input : HHPHPPHPHPHHPH, Energia máxima :4, Energia média :[3, 3, 2, 2, 1, 3, 2, 2, 1, 1, 3, 3, 3, 3, 4, 3, 3, 3, 3, 3, 4, 3, 4, 3, 4, 4, 3, 3, 4, 4, 3, 3, 3, 3, 3, 3, 3, 3, 3, 3, 3, 3, 3, 3, 4, 3, 3, 3, 3, 4], Desvio padrão : 0.989743318610787, counts : 927\n",
      " 5 : Modelo : m1, Input : HPHHHHHHHHHPHH, Energia máxima :6, Energia média :[2, 3, 2, 1, 1, 4, 1, 1, 4, 2, 4, 4, 5, 4, 4, 5, 3, 4, 5, 3, 4, 4, 4, 4, 4, 4, 5, 6, 4, 6, 4, 4, 4, 5, 4, 4, 4, 4, 4, 4, 5, 4, 5, 4, 4, 4, 4, 4, 4, 4], Desvio padrão : 1.1428571428571428, counts : 845\n",
      " 5 : Modelo : dt, Input : HPHHHHHHHHHPHH, Energia máxima :6, Energia média :[2, 3, 2, 1, 1, 4, 1, 1, 4, 2, 4, 4, 5, 4, 4, 5, 3, 4, 5, 3, 4, 4, 4, 4, 4, 4, 5, 6, 4, 6, 4, 4, 4, 5, 4, 4, 4, 4, 4, 4, 5, 4, 5, 4, 4, 4, 4, 4, 4, 4], Desvio padrão : 1.1293848786315641, counts : 754\n",
      " 6 : Modelo : m1, Input : HHHPPHHHHHPHHH, Energia máxima :6, Energia média :[1, 1, 1, 1, 2, 2, 4, 1, 3, 2, 2, 2, 3, 4, 3, 2, 3, 2, 2, 3, 3, 4, 3, 4, 4, 3, 3, 5, 3, 3, 3, 5, 3, 3, 6, 6, 3, 3, 3, 3, 3, 3, 4, 3, 3, 3, 4, 3, 4, 3], Desvio padrão : 1.124858267715973, counts : 880\n",
      " 6 : Modelo : dt, Input : HHHPPHHHHHPHHH, Energia máxima :5, Energia média :[1, 1, 1, 1, 2, 2, 4, 1, 3, 2, 2, 2, 3, 4, 3, 2, 3, 2, 2, 3, 3, 4, 3, 4, 4, 3, 3, 5, 3, 3, 3, 5, 3, 3, 6, 6, 3, 3, 3, 3, 3, 3, 4, 3, 3, 3, 4, 3, 4, 3], Desvio padrão : 1.03726484918122, counts : 827\n",
      " 7 : Modelo : m1, Input : HHHHHPPHHHHPHH, Energia máxima :5, Energia média :[3, 2, 1, 2, 1, 3, 3, 1, 2, 2, 3, 4, 3, 3, 5, 3, 3, 3, 3, 3, 3, 3, 4, 3, 3, 3, 3, 4, 4, 4, 4, 3, 3, 3, 3, 4, 3, 3, 3, 3, 3, 3, 4, 3, 3, 3, 3, 4, 3, 5], Desvio padrão : 0.8184106049944289, counts : 861\n",
      " 7 : Modelo : dt, Input : HHHHHPPHHHHPHH, Energia máxima :6, Energia média :[3, 2, 1, 2, 1, 3, 3, 1, 2, 2, 3, 4, 3, 3, 5, 3, 3, 3, 3, 3, 3, 3, 4, 3, 3, 3, 3, 4, 4, 4, 4, 3, 3, 3, 3, 4, 3, 3, 3, 3, 3, 3, 4, 3, 3, 3, 3, 4, 3, 5], Desvio padrão : 1.0887176504718656, counts : 1109\n",
      " 8 : Modelo : m1, Input : HPHHPPPHHHHHHH, Energia máxima :5, Energia média :[2, 2, 1, 2, 2, 2, 1, 1, 2, 2, 3, 2, 2, 3, 3, 2, 3, 2, 2, 2, 3, 3, 4, 4, 5, 5, 3, 3, 3, 3, 3, 4, 3, 4, 3, 3, 3, 3, 3, 3, 3, 3, 3, 5, 5, 3, 3, 3, 4, 3], Desvio padrão : 0.9612916480720413, counts : 1395\n",
      " 8 : Modelo : dt, Input : HPHHPPPHHHHHHH, Energia máxima :5, Energia média :[2, 2, 1, 2, 2, 2, 1, 1, 2, 2, 3, 2, 2, 3, 3, 2, 3, 2, 2, 2, 3, 3, 4, 4, 5, 5, 3, 3, 3, 3, 3, 4, 3, 4, 3, 3, 3, 3, 3, 3, 3, 3, 3, 5, 5, 3, 3, 3, 4, 3], Desvio padrão : 0.8703740692415896, counts : 2370\n",
      " 9 : Modelo : m1, Input : HHHPHHPPPHHPHH, Energia máxima :4, Energia média :[1, 3, 2, 1, 2, 2, 3, 3, 1, 1, 2, 2, 2, 2, 2, 3, 2, 3, 3, 2, 3, 3, 3, 3, 4, 3, 3, 4, 3, 4, 3, 3, 4, 3, 4, 3, 3, 3, 3, 3, 3, 4, 3, 4, 3, 3, 4, 4, 4, 3], Desvio padrão : 0.841766849294642, counts : 1165\n",
      " 9 : Modelo : dt, Input : HHHPHHPPPHHPHH, Energia máxima :5, Energia média :[1, 3, 2, 1, 2, 2, 3, 3, 1, 1, 2, 2, 2, 2, 2, 3, 2, 3, 3, 2, 3, 3, 3, 3, 4, 3, 3, 4, 3, 4, 3, 3, 4, 3, 4, 3, 3, 3, 3, 3, 3, 4, 3, 4, 3, 3, 4, 4, 4, 3], Desvio padrão : 0.8992059989632123, counts : 1051\n",
      " 10 : Modelo : m1, Input : HHPHHHHHPPPPPH, Energia máxima :3, Energia média :[1, 1, 2, 1, 2, 1, 1, 2, 1, 1, 2, 2, 2, 2, 2, 2, 2, 2, 2, 2, 2, 2, 2, 2, 2, 2, 2, 2, 2, 2, 2, 2, 2, 2, 3, 2, 2, 2, 2, 2, 2, 3, 2, 2, 2, 2, 2, 2, 2, 2], Desvio padrão : 0.41649656391752143, counts : 599\n",
      " 10 : Modelo : dt, Input : HHPHHHHHPPPPPH, Energia máxima :3, Energia média :[1, 1, 2, 1, 2, 1, 1, 2, 1, 1, 2, 2, 2, 2, 2, 2, 2, 2, 2, 2, 2, 2, 2, 2, 2, 2, 2, 2, 2, 2, 2, 2, 2, 2, 3, 2, 2, 2, 2, 2, 2, 3, 2, 2, 2, 2, 2, 2, 2, 2], Desvio padrão : 0.6869037302955033, counts : 1363\n",
      " 11 : Modelo : m1, Input : HHPPHHHPHPPHPH, Energia máxima :4, Energia média :[3, 2, 3, 1, 2, 1, 1, 2, 1, 2, 2, 2, 4, 3, 3, 2, 2, 2, 2, 2, 4, 4, 4, 3, 3, 4, 4, 3, 3, 3, 3, 3, 3, 3, 3, 3, 3, 3, 3, 3], Desvio padrão : 0.8589647913741941, counts : 1633\n",
      " 11 : Modelo : dt, Input : HHPPHHHPHPPHPH, Energia máxima :3, Energia média :[3, 2, 3, 1, 2, 1, 1, 2, 1, 2, 2, 2, 4, 3, 3, 2, 2, 2, 2, 2, 4, 4, 4, 3, 3, 4, 4, 3, 3, 3, 3, 3, 3, 3, 3, 3, 3, 3, 3, 3], Desvio padrão : 0.5146823867043377, counts : 817\n",
      " 12 : Modelo : m1, Input : HHHPPPPHPHHPHH, Energia máxima :3, Energia média :[2, 1, 1, 2, 1, 1, 1, 1, 2, 2, 3, 2, 2, 2, 2, 2, 2, 2, 2, 2, 2, 2, 2, 2, 2, 2, 2, 3, 2, 2, 2, 2, 2, 2, 2, 2, 2, 2, 2, 2, 2, 2, 2, 3, 2, 2, 2, 2, 2, 2], Desvio padrão : 0.42426406871192857, counts : 701\n",
      " 12 : Modelo : dt, Input : HHHPPPPHPHHPHH, Energia máxima :3, Energia média :[2, 1, 1, 2, 1, 1, 1, 1, 2, 2, 3, 2, 2, 2, 2, 2, 2, 2, 2, 2, 2, 2, 2, 2, 2, 2, 2, 3, 2, 2, 2, 2, 2, 2, 2, 2, 2, 2, 2, 2, 2, 2, 2, 3, 2, 2, 2, 2, 2, 2], Desvio padrão : 0.5115003939990902, counts : 1237\n",
      " 13 : Modelo : m1, Input : HPHPPHHPHPPHPHHPPHPH, Energia máxima :4, Energia média :[1, 2, 2, 2, 3, 1, 1, 2, 3, 1, 2, 2, 2, 2, 2, 2, 3, 3, 2, 2, 3, 3, 4, 3, 4, 3, 3, 3, 3, 3, 3, 3, 3, 3, 3, 3, 3, 4, 3, 3], Desvio padrão : 0.7807787039970959, counts : 1627\n",
      " 13 : Modelo : dt, Input : HPHPPHHPHPPHPHHPPHPH, Energia máxima :5, Energia média :[1, 2, 2, 2, 3, 1, 1, 2, 3, 1, 2, 2, 2, 2, 2, 2, 3, 3, 2, 2, 3, 3, 4, 3, 4, 3, 3, 3, 3, 3, 3, 3, 3, 3, 3, 3, 3, 4, 3, 3], Desvio padrão : 0.8609439527611065, counts : 1503\n",
      " 14 : Modelo : m1, Input : HHHPPHPHPHPPHPHPHPPH, Energia máxima :5, Energia média :[1, 3, 1, 2, 1, 2, 1, 5, 2, 1, 4, 4, 2, 2, 2, 2, 2, 2, 4, 2, 4, 3, 3, 4, 3, 4, 3, 3, 4, 3, 3, 3, 3, 3, 3, 3, 3, 3, 3, 3], Desvio padrão : 0.9867714774546074, counts : 1526\n",
      " 14 : Modelo : dt, Input : HHHPPHPHPHPPHPHPHPPH, Energia máxima :5, Energia média :[1, 3, 1, 2, 1, 2, 1, 5, 2, 1, 4, 4, 2, 2, 2, 2, 2, 2, 4, 2, 4, 3, 3, 4, 3, 4, 3, 3, 4, 3, 3, 3, 3, 3, 3, 3, 3, 3, 3, 3], Desvio padrão : 0.8081220356417685, counts : 1571\n",
      " 15 : Modelo : m1, Input : HHHHHPHHPHHHHPPHHHHHH, Energia máxima :8, Energia média :[1, 5, 4, 6, 1, 4, 1, 1, 1, 6, 4, 7, 4, 4, 4, 4, 4, 8, 6, 5, 7, 6, 6, 5, 6, 6, 5, 6, 5, 5, 7, 6, 5, 6, 5, 6, 5, 6, 6, 5], Desvio padrão : 1.762137396779322, counts : 2139\n",
      " 15 : Modelo : dt, Input : HHHHHPHHPHHHHPPHHHHHH, Energia máxima :8, Energia média :[1, 5, 4, 6, 1, 4, 1, 1, 1, 6, 4, 7, 4, 4, 4, 4, 4, 8, 6, 5, 7, 6, 6, 5, 6, 6, 5, 6, 5, 5, 7, 6, 5, 6, 5, 6, 5, 6, 6, 5], Desvio padrão : 1.553008929367078, counts : 2059\n",
      " 16 : Modelo : m1, Input : PHPPHPHHHPHPPHPHHHPPH, Energia máxima :4, Energia média :[1, 2, 2, 1, 1, 3, 1, 2, 2, 2, 3, 3, 2, 2, 2, 2, 3, 2, 3, 2, 4, 3, 3, 3, 3, 3, 3, 3, 3, 3, 3, 3, 3, 3, 3, 3, 3, 3, 4, 3, 3, 3, 4, 3, 4, 3, 4, 3, 3, 3], Desvio padrão : 0.7570080742566726, counts : 2358\n",
      " 16 : Modelo : dt, Input : PHPPHPHHHPHPPHPHHHPPH, Energia máxima :5, Energia média :[1, 2, 2, 1, 1, 3, 1, 2, 2, 2, 3, 3, 2, 2, 2, 2, 3, 2, 3, 2, 4, 3, 3, 3, 3, 3, 3, 3, 3, 3, 3, 3, 3, 3, 3, 3, 3, 3, 4, 3, 3, 3, 4, 3, 4, 3, 4, 3, 3, 3], Desvio padrão : 0.9026039427960751, counts : 1242\n"
     ]
    }
   ],
   "source": [
    "Inputs = [\"HPPHHPH\",\"HPHHHPHHPH\",\"HPPHPPPPHPPHP\",\"HHPHPPHPHPHHPH\",\"HPHHHHHHHHHPHH\",\"HHHPPHHHHHPHHH\",\"HHHHHPPHHHHPHH\",\"HPHHPPPHHHHHHH\",\n",
    "          \"HHHPHHPPPHHPHH\",\"HHPHHHHHPPPPPH\",\"HHPPHHHPHPPHPH\",\"HHHPPPPHPHHPHH\",\"HPHPPHHPHPPHPHHPPHPH\",\"HHHPPHPHPHPPHPHPHPPH\",\n",
    "          \"HHHHHPHHPHHHHPPHHHHHH\",\"PHPPHPHHHPHPPHPHHHPPH\"]\n",
    "\n",
    "dics_dt = []\n",
    "dics_m1 = []\n",
    "\n",
    "for i in range(len(Inputs)):\n",
    "    dics_m1.append(compare_models(m1,Inputs[i],50))\n",
    "    dics_dt.append(compare_models(dt,Inputs[i],50))\n",
    "\n",
    "for i in range(len(dics_m1)):\n",
    "    print(f\" {i+1} : Modelo : m1, Input : {Inputs[i]}, Energia máxima :{dics_m1[i]['max_energy']}, Energia média :{dics_m1[i]['energy']}, Desvio padrão : {dics_m1[i]['standard_devi']}, counts : {dics_m1[i]['counts']}\")\n",
    "    print(f\" {i+1} : Modelo : dt, Input : {Inputs[i]}, Energia máxima :{dics_dt[i]['max_energy']}, Energia média :{dics_m1[i]['energy']}, Desvio padrão : {dics_dt[i]['standard_devi']}, counts : {dics_dt[i]['counts']}\")\n"
   ]
  },
  {
   "cell_type": "code",
   "execution_count": 6,
   "metadata": {},
   "outputs": [],
   "source": [
    "for i in range(len(dics_dt)):\n",
    "    pandas.DataFrame(dics_dt[i]).to_pickle(f\"data/results_2/dt{i}.pkl\")\n",
    "    pandas.DataFrame(dics_m1[i]).to_pickle(f\"data/results_2/m1{i}.pkl\")"
   ]
  },
  {
   "cell_type": "code",
   "execution_count": 5,
   "metadata": {},
   "outputs": [],
   "source": [
    "import pandas\n",
    "import itertools"
   ]
  },
  {
   "cell_type": "code",
   "execution_count": null,
   "metadata": {},
   "outputs": [],
   "source": [
    "for i,direction in enumerate(dics_dt[\"direction\"]):\n",
    "    if dics_dt[\"energy\"][i] == 6:\n",
    "        print(direction)\n",
    "a = list(itertools.product(\"RLF\",repeat = 13))\n",
    "\n",
    "variavel = \"LLLRLLRLRLLFL\"\n",
    "\n",
    "for i in range(len(a)):\n",
    "    aux = True\n",
    "    for j in range(13):\n",
    "        aux = aux and a[i][j] == variavel[j]\n",
    "    if aux :\n",
    "        print(a[i])\n",
    "        print(i)\n"
   ]
  }
 ],
 "metadata": {
  "interpreter": {
   "hash": "b1cbc199116ca0050f15b4a096ee5586221393ef42f89efdf0ba89fccf25361f"
  },
  "kernelspec": {
   "display_name": "Python 3.8.8 64-bit ('base': conda)",
   "name": "python3"
  },
  "language_info": {
   "codemirror_mode": {
    "name": "ipython",
    "version": 3
   },
   "file_extension": ".py",
   "mimetype": "text/x-python",
   "name": "python",
   "nbconvert_exporter": "python",
   "pygments_lexer": "ipython3",
   "version": "3.9.7"
  },
  "orig_nbformat": 4
 },
 "nbformat": 4,
 "nbformat_minor": 2
}
