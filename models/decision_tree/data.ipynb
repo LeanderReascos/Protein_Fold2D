{
 "cells": [
  {
   "cell_type": "code",
   "execution_count": 3,
   "metadata": {},
   "outputs": [
    {
     "data": {
      "text/html": [
       "<div>\n",
       "<style scoped>\n",
       "    .dataframe tbody tr th:only-of-type {\n",
       "        vertical-align: middle;\n",
       "    }\n",
       "\n",
       "    .dataframe tbody tr th {\n",
       "        vertical-align: top;\n",
       "    }\n",
       "\n",
       "    .dataframe thead th {\n",
       "        text-align: right;\n",
       "    }\n",
       "</style>\n",
       "<table border=\"1\" class=\"dataframe\">\n",
       "  <thead>\n",
       "    <tr style=\"text-align: right;\">\n",
       "      <th></th>\n",
       "      <th>Inputs</th>\n",
       "      <th>Directions</th>\n",
       "      <th>Energy</th>\n",
       "    </tr>\n",
       "  </thead>\n",
       "  <tbody>\n",
       "    <tr>\n",
       "      <th>0</th>\n",
       "      <td>HHHHP</td>\n",
       "      <td>SRRRL</td>\n",
       "      <td>1</td>\n",
       "    </tr>\n",
       "    <tr>\n",
       "      <th>1</th>\n",
       "      <td>HHHHP</td>\n",
       "      <td>SRRRF</td>\n",
       "      <td>1</td>\n",
       "    </tr>\n",
       "    <tr>\n",
       "      <th>2</th>\n",
       "      <td>HHHHP</td>\n",
       "      <td>SRLLR</td>\n",
       "      <td>1</td>\n",
       "    </tr>\n",
       "    <tr>\n",
       "      <th>3</th>\n",
       "      <td>HHHHP</td>\n",
       "      <td>SRLLF</td>\n",
       "      <td>1</td>\n",
       "    </tr>\n",
       "    <tr>\n",
       "      <th>4</th>\n",
       "      <td>HHHHP</td>\n",
       "      <td>SLRRL</td>\n",
       "      <td>1</td>\n",
       "    </tr>\n",
       "  </tbody>\n",
       "</table>\n",
       "</div>"
      ],
      "text/plain": [
       "  Inputs Directions  Energy\n",
       "0  HHHHP      SRRRL       1\n",
       "1  HHHHP      SRRRF       1\n",
       "2  HHHHP      SRLLR       1\n",
       "3  HHHHP      SRLLF       1\n",
       "4  HHHHP      SLRRL       1"
      ]
     },
     "execution_count": 3,
     "metadata": {},
     "output_type": "execute_result"
    }
   ],
   "source": [
    "import pandas as pd\n",
    "import matplotlib.pyplot as plt\n",
    "import numpy as np\n",
    "\n",
    "FILE = '../../data/dataset.csv'\n",
    "df = pd.read_csv(FILE,sep=',')\n",
    "Inputs = df['Inputs']\n",
    "Directions = df['Directions'].values\n",
    "Energy = df['Energy'].values\n",
    "df.head()"
   ]
  },
  {
   "cell_type": "code",
   "execution_count": 4,
   "metadata": {},
   "outputs": [],
   "source": [
    "dic = {}\n",
    "for i,input in enumerate(Inputs):\n",
    "    try:\n",
    "        dic[input].append([Directions[i],Energy[i]])\n",
    "    except:\n",
    "        dic[input] = [[Directions[i],Energy[i]]]\n",
    "\n",
    "data = {}\n",
    "\n",
    "for key in dic.keys():\n",
    "    max_energy = 0\n",
    "    for _,energy in dic[key]:\n",
    "        if max_energy < energy: \n",
    "            max_energy = energy\n",
    "    data[key] = {'energy':max_energy,'directions':[]}\n",
    "\n",
    "values = []\n",
    "\n",
    "for key in dic.keys():\n",
    "    for dir,energy in dic[key]:\n",
    "        if energy == data[key]['energy']:\n",
    "            data[key]['directions'].append(dir)\n",
    "            values.append([key,dir])"
   ]
  },
  {
   "cell_type": "code",
   "execution_count": 5,
   "metadata": {},
   "outputs": [
    {
     "data": {
      "text/html": [
       "<div>\n",
       "<style scoped>\n",
       "    .dataframe tbody tr th:only-of-type {\n",
       "        vertical-align: middle;\n",
       "    }\n",
       "\n",
       "    .dataframe tbody tr th {\n",
       "        vertical-align: top;\n",
       "    }\n",
       "\n",
       "    .dataframe thead th {\n",
       "        text-align: right;\n",
       "    }\n",
       "</style>\n",
       "<table border=\"1\" class=\"dataframe\">\n",
       "  <thead>\n",
       "    <tr style=\"text-align: right;\">\n",
       "      <th></th>\n",
       "      <th>Inputs</th>\n",
       "      <th>Directions</th>\n",
       "    </tr>\n",
       "  </thead>\n",
       "  <tbody>\n",
       "    <tr>\n",
       "      <th>0</th>\n",
       "      <td>HHHHP</td>\n",
       "      <td>SRRRL</td>\n",
       "    </tr>\n",
       "    <tr>\n",
       "      <th>1</th>\n",
       "      <td>HHHHP</td>\n",
       "      <td>SRRRF</td>\n",
       "    </tr>\n",
       "    <tr>\n",
       "      <th>2</th>\n",
       "      <td>HHHHP</td>\n",
       "      <td>SRLLR</td>\n",
       "    </tr>\n",
       "    <tr>\n",
       "      <th>3</th>\n",
       "      <td>HHHHP</td>\n",
       "      <td>SRLLF</td>\n",
       "    </tr>\n",
       "    <tr>\n",
       "      <th>4</th>\n",
       "      <td>HHHHP</td>\n",
       "      <td>SLRRL</td>\n",
       "    </tr>\n",
       "  </tbody>\n",
       "</table>\n",
       "</div>"
      ],
      "text/plain": [
       "  Inputs Directions\n",
       "0  HHHHP      SRRRL\n",
       "1  HHHHP      SRRRF\n",
       "2  HHHHP      SRLLR\n",
       "3  HHHHP      SRLLF\n",
       "4  HHHHP      SLRRL"
      ]
     },
     "execution_count": 5,
     "metadata": {},
     "output_type": "execute_result"
    }
   ],
   "source": [
    "vals = pd.DataFrame(values,columns=['Inputs','Directions'])\n",
    "vals.head()"
   ]
  },
  {
   "cell_type": "code",
   "execution_count": 6,
   "metadata": {},
   "outputs": [
    {
     "data": {
      "text/plain": [
       "0.14814814814814814"
      ]
     },
     "execution_count": 6,
     "metadata": {},
     "output_type": "execute_result"
    }
   ],
   "source": [
    "def solutions(input):\n",
    "    solutions = list(vals.loc[vals['Inputs']==input][\"Directions\"])\n",
    "    return solutions\n",
    "    \n",
    "def verifica_probs(input):\n",
    "    number_solutions = len(vals.loc[vals['Inputs']==input])\n",
    "    size = len(input)\n",
    "    total = 3**(size-1)\n",
    "    prob = number_solutions/total\n",
    "    return prob\n",
    "\n",
    "\n",
    "verifica_probs(\"HHHHP\")"
   ]
  },
  {
   "cell_type": "code",
   "execution_count": 7,
   "metadata": {},
   "outputs": [],
   "source": [
    "from decision_tree import model"
   ]
  },
  {
   "cell_type": "code",
   "execution_count": 8,
   "metadata": {},
   "outputs": [
    {
     "data": {
      "text/plain": [
       "0.188"
      ]
     },
     "execution_count": 8,
     "metadata": {},
     "output_type": "execute_result"
    }
   ],
   "source": [
    "def calculate_prob(input,N):\n",
    "    results = []\n",
    "    count = 0\n",
    "    list_solutions = solutions(input)\n",
    "    number_solutions = len(list_solutions)\n",
    "    for i in range(N):\n",
    "        results.append(model(input))\n",
    "    for i in range(N):\n",
    "        for j in range(number_solutions):\n",
    "            if results[i] == list_solutions[j]:\n",
    "                count +=1\n",
    "                break\n",
    "    prob = count/N\n",
    "    return prob\n",
    "        \n",
    "calculate_prob(\"HHHHP\",1000)\n"
   ]
  },
  {
   "cell_type": "code",
   "execution_count": 9,
   "metadata": {},
   "outputs": [
    {
     "data": {
      "text/plain": [
       "['HPHHP',\n",
       " 'HHPHP',\n",
       " 'PHPHH',\n",
       " 'HHPHHP',\n",
       " 'HPPHHP',\n",
       " 'HPHPPH',\n",
       " 'PPPHPHH',\n",
       " 'PHPPPHH',\n",
       " 'PHPPPHH',\n",
       " 'HPHPPPHH',\n",
       " 'PHHHHHPH',\n",
       " 'HPPHPHPH']"
      ]
     },
     "execution_count": 9,
     "metadata": {},
     "output_type": "execute_result"
    }
   ],
   "source": [
    "np.random.seed(42)\n",
    "aux = pd.DataFrame(dic.keys())\n",
    "aux['len'] = aux[0].apply(len)\n",
    "combinations = []\n",
    "for i in [5,6,7,8]:\n",
    "    combinations += list(np.random.choice(aux.loc[aux['len'] == i][0].values,3))\n",
    "combinations"
   ]
  },
  {
   "cell_type": "code",
   "execution_count": 10,
   "metadata": {},
   "outputs": [
    {
     "name": "stdout",
     "output_type": "stream",
     "text": [
      "Random: 0.14814814814814814 - Model: 0.215 Samples: 1000\n",
      "Random: 0.14814814814814814 - Model: 0.186 Samples: 1000\n",
      "Random: 0.14814814814814814 - Model: 0.189 Samples: 1000\n",
      "Random: 0.24691358024691357 - Model: 0.318 Samples: 1000\n",
      "Random: 0.14814814814814814 - Model: 0.199 Samples: 1000\n",
      "Random: 0.024691358024691357 - Model: 0.043 Samples: 1000\n",
      "Random: 0.13168724279835392 - Model: 0.1934156378600823 Samples: 1458\n",
      "Random: 0.0411522633744856 - Model: 0.03292181069958848 Samples: 1458\n",
      "Random: 0.0411522633744856 - Model: 0.03223593964334705 Samples: 1458\n",
      "Random: 0.00823045267489712 - Model: 0.009830818472793781 Samples: 4374\n",
      "Random: 0.05212620027434842 - Model: 0.0797896662094193 Samples: 4374\n",
      "Random: 0.0027434842249657062 - Model: 0.009602194787379973 Samples: 4374\n"
     ]
    }
   ],
   "source": [
    "Prandom = []\n",
    "Pmodel = []\n",
    "for combination in combinations:\n",
    "    Prandom.append(verifica_probs(combination)) \n",
    "    N = 3**(len(combination)-1)*2\n",
    "    N = 1000 if N < 1000 else 3**(len(combination)-1)*2\n",
    "    Pmodel.append(calculate_prob(combination,N))\n",
    "    print(f'Random: {Prandom[-1]} - Model: {Pmodel[-1]} Samples: {N}')"
   ]
  },
  {
   "cell_type": "code",
   "execution_count": 11,
   "metadata": {},
   "outputs": [
    {
     "data": {
      "image/png": "[encoded data removed]",
      "text/plain": [
       "<Figure size 720x720 with 12 Axes>"
      ]
     },
     "metadata": {
      "needs_background": "light"
     },
     "output_type": "display_data"
    }
   ],
   "source": [
    "testes = combinations\n",
    "fig,ax = plt.subplots(4,3,figsize=(10,10),constrained_layout=True)\n",
    "for i in range(4):\n",
    "    for j in range(3):\n",
    "        ax[i][j].bar(0,Prandom[i+j])\n",
    "        ax[i][j].bar(1,Pmodel[i+j])\n",
    "        ax[i][j].set_title(testes[i+j])"
   ]
  },
  {
   "cell_type": "code",
   "execution_count": null,
   "metadata": {},
   "outputs": [],
   "source": []
  }
 ],
 "metadata": {
  "interpreter": {
   "hash": "b1cbc199116ca0050f15b4a096ee5586221393ef42f89efdf0ba89fccf25361f"
  },
  "kernelspec": {
   "display_name": "Python 3.8.8 64-bit ('base': conda)",
   "name": "python3"
  },
  "language_info": {
   "codemirror_mode": {
    "name": "ipython",
    "version": 3
   },
   "file_extension": ".py",
   "mimetype": "text/x-python",
   "name": "python",
   "nbconvert_exporter": "python",
   "pygments_lexer": "ipython3",
   "version": "3.9.7"
  },
  "orig_nbformat": 4
 },
 "nbformat": 4,
 "nbformat_minor": 2
}
